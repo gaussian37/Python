{
 "cells": [
  {
   "cell_type": "markdown",
   "metadata": {},
   "source": [
    "## tkinter 기본 창 띄우기"
   ]
  },
  {
   "cell_type": "code",
   "execution_count": 5,
   "metadata": {
    "ExecuteTime": {
     "end_time": "2018-06-06T01:12:15.508195Z",
     "start_time": "2018-06-06T01:12:13.516207Z"
    }
   },
   "outputs": [],
   "source": [
    "from tkinter import *\n",
    "root = Tk()\n",
    "root.mainloop()"
   ]
  },
  {
   "cell_type": "markdown",
   "metadata": {},
   "source": [
    "## label 추가하기"
   ]
  },
  {
   "cell_type": "code",
   "execution_count": 9,
   "metadata": {
    "ExecuteTime": {
     "end_time": "2018-06-06T01:15:53.339091Z",
     "start_time": "2018-06-06T01:15:34.637048Z"
    }
   },
   "outputs": [],
   "source": [
    "from tkinter import *\n",
    "root = Tk()\n",
    "label = Label(root, text = \"This is tkinter Window\")\n",
    "label.pack()\n",
    "root.mainloop()"
   ]
  },
  {
   "cell_type": "code",
   "execution_count": 10,
   "metadata": {
    "ExecuteTime": {
     "end_time": "2018-06-06T01:17:01.684359Z",
     "start_time": "2018-06-06T01:16:57.101178Z"
    }
   },
   "outputs": [],
   "source": [
    "from tkinter import *\n",
    "root = Tk()\n",
    "label = Label(root, text = \"This is tkinter Window\")\n",
    "label.pack()\n",
    "label2 = Label(root, text = \"This is second sentence\")\n",
    "label2.pack()\n",
    "root.mainloop()"
   ]
  },
  {
   "cell_type": "markdown",
   "metadata": {},
   "source": [
    "## Button 추가하기"
   ]
  },
  {
   "cell_type": "code",
   "execution_count": 14,
   "metadata": {
    "ExecuteTime": {
     "end_time": "2018-06-06T01:26:32.806781Z",
     "start_time": "2018-06-06T01:25:32.380958Z"
    }
   },
   "outputs": [],
   "source": [
    "from tkinter import *\n",
    "root = Tk()\n",
    "button1 = Button(None, text = \"Click Me\", fg = \"Blue\")\n",
    "button1.pack()\n",
    "button2 = Button(None, text = \"Hello\", fg = \"Red\")\n",
    "button2.pack()\n",
    "root.mainloop()"
   ]
  },
  {
   "cell_type": "code",
   "execution_count": null,
   "metadata": {},
   "outputs": [],
   "source": []
  }
 ],
 "metadata": {
  "anaconda-cloud": {},
  "kernelspec": {
   "display_name": "Python [conda root]",
   "language": "python",
   "name": "conda-root-py"
  },
  "language_info": {
   "codemirror_mode": {
    "name": "ipython",
    "version": 3
   },
   "file_extension": ".py",
   "mimetype": "text/x-python",
   "name": "python",
   "nbconvert_exporter": "python",
   "pygments_lexer": "ipython3",
   "version": "3.5.2"
  },
  "varInspector": {
   "cols": {
    "lenName": 16,
    "lenType": 16,
    "lenVar": 40
   },
   "kernels_config": {
    "python": {
     "delete_cmd_postfix": "",
     "delete_cmd_prefix": "del ",
     "library": "var_list.py",
     "varRefreshCmd": "print(var_dic_list())"
    },
    "r": {
     "delete_cmd_postfix": ") ",
     "delete_cmd_prefix": "rm(",
     "library": "var_list.r",
     "varRefreshCmd": "cat(var_dic_list()) "
    }
   },
   "types_to_exclude": [
    "module",
    "function",
    "builtin_function_or_method",
    "instance",
    "_Feature"
   ],
   "window_display": false
  }
 },
 "nbformat": 4,
 "nbformat_minor": 1
}
