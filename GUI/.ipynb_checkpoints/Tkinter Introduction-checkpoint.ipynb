{
 "cells": [
  {
   "cell_type": "markdown",
   "metadata": {},
   "source": [
    "## tkinter 기본 창 띄우기"
   ]
  },
  {
   "cell_type": "code",
   "execution_count": 5,
   "metadata": {
    "ExecuteTime": {
     "end_time": "2018-06-06T01:12:15.508195Z",
     "start_time": "2018-06-06T01:12:13.516207Z"
    }
   },
   "outputs": [],
   "source": [
    "from tkinter import *\n",
    "root = Tk()\n",
    "root.mainloop()"
   ]
  },
  {
   "cell_type": "markdown",
   "metadata": {},
   "source": [
    "## label 추가하기"
   ]
  },
  {
   "cell_type": "code",
   "execution_count": 9,
   "metadata": {
    "ExecuteTime": {
     "end_time": "2018-06-06T01:15:53.339091Z",
     "start_time": "2018-06-06T01:15:34.637048Z"
    }
   },
   "outputs": [],
   "source": [
    "from tkinter import *\n",
    "root = Tk()\n",
    "label = Label(root, text = \"This is tkinter Window\")\n",
    "label.pack()\n",
    "root.mainloop()"
   ]
  },
  {
   "cell_type": "code",
   "execution_count": 10,
   "metadata": {
    "ExecuteTime": {
     "end_time": "2018-06-06T01:17:01.684359Z",
     "start_time": "2018-06-06T01:16:57.101178Z"
    }
   },
   "outputs": [],
   "source": [
    "from tkinter import *\n",
    "root = Tk()\n",
    "label = Label(root, text = \"This is tkinter Window\")\n",
    "label.pack()\n",
    "label2 = Label(root, text = \"This is second sentence\")\n",
    "label2.pack()\n",
    "root.mainloop()"
   ]
  },
  {
   "cell_type": "markdown",
   "metadata": {},
   "source": [
    "## Button 추가하기"
   ]
  },
  {
   "cell_type": "code",
   "execution_count": 14,
   "metadata": {
    "ExecuteTime": {
     "end_time": "2018-06-06T01:26:32.806781Z",
     "start_time": "2018-06-06T01:25:32.380958Z"
    }
   },
   "outputs": [],
   "source": [
    "from tkinter import *\n",
    "root = Tk()\n",
    "button1 = Button(None, text = \"Click Me\", fg = \"Blue\")\n",
    "button1.pack()\n",
    "button2 = Button(None, text = \"Hello\", fg = \"Red\")\n",
    "button2.pack()\n",
    "root.mainloop()"
   ]
  },
  {
   "cell_type": "markdown",
   "metadata": {},
   "source": [
    "## Layout 설정하기"
   ]
  },
  {
   "cell_type": "code",
   "execution_count": 2,
   "metadata": {
    "ExecuteTime": {
     "end_time": "2018-06-06T12:39:55.963414Z",
     "start_time": "2018-06-06T12:31:57.536500Z"
    }
   },
   "outputs": [],
   "source": [
    "from tkinter import*\n",
    "root = Tk()\n",
    "\n",
    "topFrame = Frame(root)\n",
    "topFrame.pack()\n",
    "\n",
    "bottomFrame = Frame(root)\n",
    "bottomFrame.pack(side=BOTTOM)\n",
    "\n",
    "button1 = Button(topFrame, text = \"Click1\", fg = \"Blue\")\n",
    "button1.pack(side = LEFT)\n",
    "\n",
    "button2 = Button(topFrame, text = \"Click2\", fg = \"Red\")\n",
    "button2.pack(side = RIGHT)\n",
    "\n",
    "button3 = Button(bottomFrame, text = \"Click3\", fg = \"Purple\")\n",
    "button3.pack(side = LEFT)\n",
    "\n",
    "button4 = Button(bottomFrame, text = \"Click4\", fg = \"Yellow\")\n",
    "button4.pack(side = RIGHT)\n",
    "\n",
    "root.mainloop()"
   ]
  },
  {
   "cell_type": "markdown",
   "metadata": {},
   "source": [
    "# fill 기능 사용하기 - Window 사이즈 변경에 따라 Button 크기 변경"
   ]
  },
  {
   "cell_type": "code",
   "execution_count": 11,
   "metadata": {
    "ExecuteTime": {
     "end_time": "2018-06-06T12:51:52.010706Z",
     "start_time": "2018-06-06T12:51:49.815296Z"
    }
   },
   "outputs": [],
   "source": [
    "from tkinter import *\n",
    "root = Tk()\n",
    "\n",
    "topFrame = Frame(root)\n",
    "topFrame.pack()\n",
    "bottomFrame = Frame(root)\n",
    "bottomFrame.pack(side = BOTTOM)\n",
    "\n",
    "button1 = Button(None, text = \"Click1\", fg = \"Blue\")\n",
    "button1.pack()\n",
    "\n",
    "button2 = Button(None, text = \"Click2\", fg = \"Red\")\n",
    "button2.pack(fill = X)\n",
    "\n",
    "button3 = Button(None, text = \"Click3\", fg = \"Purple\")\n",
    "button3.pack(side = RIGHT, fill = Y)\n",
    "\n",
    "button4 = Button(None, text = \"Click4\", fg = \"Yellow\")\n",
    "button4.pack()\n",
    "\n",
    "root.mainloop()"
   ]
  },
  {
   "cell_type": "markdown",
   "metadata": {},
   "source": [
    "# Grid Layout 사용"
   ]
  },
  {
   "cell_type": "code",
   "execution_count": 3,
   "metadata": {
    "ExecuteTime": {
     "end_time": "2018-06-10T16:32:42.233653Z",
     "start_time": "2018-06-10T16:32:29.956274Z"
    }
   },
   "outputs": [],
   "source": [
    "from tkinter import*\n",
    "root = Tk()\n",
    "label1 = Label(root, text = \"Label1\")\n",
    "label2 = Label(root, text = \"Label2\")\n",
    "label3 = Label(root, text = \"Label3\")\n",
    "\n",
    "# Grid Layout\n",
    "label1.grid(row = 0, column = 0)\n",
    "label2.grid(row = 0, column = 1)\n",
    "label3.grid(row = 1, column = 0)\n",
    "\n",
    "root.mainloop()"
   ]
  },
  {
   "cell_type": "markdown",
   "metadata": {},
   "source": [
    "# Entry 사용"
   ]
  },
  {
   "cell_type": "code",
   "execution_count": 6,
   "metadata": {
    "ExecuteTime": {
     "end_time": "2018-06-10T16:37:01.944052Z",
     "start_time": "2018-06-10T16:36:23.060022Z"
    }
   },
   "outputs": [],
   "source": [
    "from tkinter import *\n",
    "root = Tk()\n",
    "\n",
    "label1 = Label(root, text = \"Label1\")\n",
    "label1.grid(row = 0, column = 0)\n",
    "\n",
    "entrySpace = Entry(root)\n",
    "entrySpace.grid(row = 0, column = 1)\n",
    "\n",
    "root.mainloop()"
   ]
  },
  {
   "cell_type": "markdown",
   "metadata": {},
   "source": [
    "# Check Button 사용"
   ]
  },
  {
   "cell_type": "code",
   "execution_count": 11,
   "metadata": {
    "ExecuteTime": {
     "end_time": "2018-06-10T16:47:35.078980Z",
     "start_time": "2018-06-10T16:47:27.164807Z"
    }
   },
   "outputs": [],
   "source": [
    "from tkinter import *\n",
    "root = Tk()\n",
    "\n",
    "label1 = Label(root, text = \"Label1\")\n",
    "label1.grid(row = 0, column = 0)\n",
    "\n",
    "entrySpace = Entry(root)\n",
    "entrySpace.grid(row = 0, column = 1)\n",
    "checkButton = Checkbutton(root, text = \"Remember name\")\n",
    "checkButton.grid(columnspan = 2)\n",
    "\n",
    "root.mainloop()"
   ]
  },
  {
   "cell_type": "markdown",
   "metadata": {},
   "source": [
    "# Log In 형태 만들어 보기"
   ]
  },
  {
   "cell_type": "code",
   "execution_count": 17,
   "metadata": {
    "ExecuteTime": {
     "end_time": "2018-06-10T17:20:55.851887Z",
     "start_time": "2018-06-10T17:17:12.386821Z"
    }
   },
   "outputs": [],
   "source": [
    "from tkinter import *\n",
    "root = Tk()\n",
    "\n",
    "label1 = Label(root, text = \"ID : \")\n",
    "label1.grid(row = 0, column = 0, sticky = \"E\")\n",
    "\n",
    "label2 = Label(root, text = \"Passworkd : \")\n",
    "label2.grid(row = 1, column = 0, sticky = \"E\")\n",
    "\n",
    "entrySpace1 = Entry(root)\n",
    "entrySpace1.grid(row = 0, column = 1)\n",
    "\n",
    "entrySpace2 = Entry(root)\n",
    "entrySpace2.grid(row = 1, column = 1)\n",
    "checkButton = Checkbutton(root, text = \"Remember name\")\n",
    "checkButton.grid(columnspan = 2)\n",
    "\n",
    "root.mainloop()"
   ]
  },
  {
   "cell_type": "markdown",
   "metadata": {},
   "source": [
    "# Button Click Action"
   ]
  },
  {
   "cell_type": "code",
   "execution_count": 19,
   "metadata": {
    "ExecuteTime": {
     "end_time": "2018-06-10T17:23:30.755049Z",
     "start_time": "2018-06-10T17:23:00.338683Z"
    }
   },
   "outputs": [
    {
     "name": "stdout",
     "output_type": "stream",
     "text": [
      "Hello!!\n",
      "Hello!!\n",
      "Hello!!\n",
      "Hello!!\n",
      "Hello!!\n",
      "Hello!!\n"
     ]
    }
   ],
   "source": [
    "from tkinter import *\n",
    "root = Tk()\n",
    "\n",
    "def printName():\n",
    "    print(\"Hello!!\")\n",
    "    \n",
    "button1 = Button(root, text = \"Click Me\", command = printName)\n",
    "button1.pack()\n",
    "\n",
    "root.mainloop()"
   ]
  },
  {
   "cell_type": "code",
   "execution_count": null,
   "metadata": {},
   "outputs": [],
   "source": []
  }
 ],
 "metadata": {
  "anaconda-cloud": {},
  "kernelspec": {
   "display_name": "Python [conda root]",
   "language": "python",
   "name": "conda-root-py"
  },
  "language_info": {
   "codemirror_mode": {
    "name": "ipython",
    "version": 3
   },
   "file_extension": ".py",
   "mimetype": "text/x-python",
   "name": "python",
   "nbconvert_exporter": "python",
   "pygments_lexer": "ipython3",
   "version": "3.5.2"
  },
  "varInspector": {
   "cols": {
    "lenName": 16,
    "lenType": 16,
    "lenVar": 40
   },
   "kernels_config": {
    "python": {
     "delete_cmd_postfix": "",
     "delete_cmd_prefix": "del ",
     "library": "var_list.py",
     "varRefreshCmd": "print(var_dic_list())"
    },
    "r": {
     "delete_cmd_postfix": ") ",
     "delete_cmd_prefix": "rm(",
     "library": "var_list.r",
     "varRefreshCmd": "cat(var_dic_list()) "
    }
   },
   "types_to_exclude": [
    "module",
    "function",
    "builtin_function_or_method",
    "instance",
    "_Feature"
   ],
   "window_display": false
  }
 },
 "nbformat": 4,
 "nbformat_minor": 1
}
