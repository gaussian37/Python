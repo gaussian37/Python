{
 "cells": [
  {
   "cell_type": "markdown",
   "metadata": {},
   "source": [
    "크롤링할 대상들은 웹페이지 상에 존재합니다. 웹페이지는 HTTP(S) 프로토콜을 통한 요청에 대한 <span class=\"mark\">응답</span>이고 웹페이지는 기본적으로 HTML 포맷이며, HTML 문서 내에 이미지, 자바스크립트, CSS 코드가 같이 기술됩니다. 이미지, 자바스크립트, CSS 코드들은 브라우저에 의해서 처리되며, 그래픽적으로도 해석되어 유저에게 보여집니다. "
   ]
  },
  {
   "cell_type": "markdown",
   "metadata": {},
   "source": [
    "### HTTP 요청을 하는 다양한 방법\n",
    "\n",
    "- 웹 브라우저 접속\n",
    "- 새로 고침\n",
    "- 자바스크립트를 통한 요청\n",
    "- 앱 API(앱 http 클라이언트를 통한 요청)\n",
    "- HTML Form 전송"
   ]
  },
  {
   "cell_type": "markdown",
   "metadata": {},
   "source": [
    "### HTTP 프로토콜\n",
    "\n",
    "HTTP : HyperText Transfer Protocol\n",
    "\n",
    "- 어떤 포맷의 데이터라도 전송할 수 있도록 설계되어 있음 (HTML, CSS< JavaScript, Image, Video 등)\n",
    "- URI를 통해 자원의 위치 지정<br>\n",
    "URI : Uniform Resource Identifiers : WWW 상의 자원의 위치를 표현 <br>\n",
    "https://github.com/gaussian37 <br>\n",
    "https : 프로토콜 (http 또는 https)\n",
    "github.com : 서버 도메인\n",
    "/gaussian37 : 요청할 자원의 이름\n",
    "- 현재 서버 및 다른 서버의 자원도 지정 가능\n",
    "\n",
    "https://github.com/gaussian37 의 페이지 소스보기를 하면 아래와 같은 HTML 내용을 볼 수 있습니다.\n",
    "\n",
    "![1](nb_images/02.1.jpeg)\n",
    "\n",
    "응답을 받은 브라우저를 HTML 처음부터 1줄씩 해석해가며, 그래픽으로 보여줍니다.<br>\n",
    "네트워크 접근이 필요한 부분(CSS/JavaScript/Image/Video URL)을 만나면, 이에 대해 그 즉시 추가 HTTP 요청을 합니다"
   ]
  },
  {
   "cell_type": "code",
   "execution_count": null,
   "metadata": {},
   "outputs": [],
   "source": []
  }
 ],
 "metadata": {
  "anaconda-cloud": {},
  "kernelspec": {
   "display_name": "Python [conda root]",
   "language": "python",
   "name": "conda-root-py"
  },
  "language_info": {
   "codemirror_mode": {
    "name": "ipython",
    "version": 3
   },
   "file_extension": ".py",
   "mimetype": "text/x-python",
   "name": "python",
   "nbconvert_exporter": "python",
   "pygments_lexer": "ipython3",
   "version": "3.5.2"
  },
  "varInspector": {
   "cols": {
    "lenName": 16,
    "lenType": 16,
    "lenVar": 40
   },
   "kernels_config": {
    "python": {
     "delete_cmd_postfix": "",
     "delete_cmd_prefix": "del ",
     "library": "var_list.py",
     "varRefreshCmd": "print(var_dic_list())"
    },
    "r": {
     "delete_cmd_postfix": ") ",
     "delete_cmd_prefix": "rm(",
     "library": "var_list.r",
     "varRefreshCmd": "cat(var_dic_list()) "
    }
   },
   "types_to_exclude": [
    "module",
    "function",
    "builtin_function_or_method",
    "instance",
    "_Feature"
   ],
   "window_display": false
  }
 },
 "nbformat": 4,
 "nbformat_minor": 1
}
