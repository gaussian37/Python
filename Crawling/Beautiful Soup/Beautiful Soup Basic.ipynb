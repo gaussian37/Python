{
 "cells": [
  {
   "cell_type": "markdown",
   "metadata": {},
   "source": [
    "# BeautifulSoup Basic"
   ]
  },
  {
   "cell_type": "code",
   "execution_count": 1,
   "metadata": {},
   "outputs": [],
   "source": [
    "from urllib.parse import urljoin\n",
    "baseUrl = \"http://test.com/html/a.html\""
   ]
  },
  {
   "cell_type": "markdown",
   "metadata": {},
   "source": [
    "### urljoin\n",
    "\n",
    "With ``urljoin`` function, you can combinate the baseurl and new part but it's not simple adding but replacement of last part. Let me give you examples."
   ]
  },
  {
   "cell_type": "code",
   "execution_count": 6,
   "metadata": {},
   "outputs": [
    {
     "name": "stdout",
     "output_type": "stream",
     "text": [
      ">> http://test.com/html/b.html\n"
     ]
    }
   ],
   "source": [
    "print(\">>\", urljoin(baseUrl, \"b.html\"))"
   ]
  },
  {
   "cell_type": "markdown",
   "metadata": {},
   "source": [
    "you can replace not only last part like a \"b.html\" but also directory like a example below."
   ]
  },
  {
   "cell_type": "code",
   "execution_count": 7,
   "metadata": {},
   "outputs": [
    {
     "name": "stdout",
     "output_type": "stream",
     "text": [
      ">> http://test.com/html/sub/b.html\n"
     ]
    }
   ],
   "source": [
    "print(\">>\", urljoin(baseUrl, \"sub/b.html\"))"
   ]
  },
  {
   "cell_type": "markdown",
   "metadata": {},
   "source": [
    "with `../`, you can access upper directory"
   ]
  },
  {
   "cell_type": "code",
   "execution_count": 8,
   "metadata": {},
   "outputs": [
    {
     "name": "stdout",
     "output_type": "stream",
     "text": [
      ">> http://test.com/index.html\n"
     ]
    }
   ],
   "source": [
    "print(\">>\", urljoin(baseUrl, \"../index.html\"))"
   ]
  },
  {
   "cell_type": "markdown",
   "metadata": {},
   "source": [
    "Let me give you an another example."
   ]
  },
  {
   "cell_type": "code",
   "execution_count": 9,
   "metadata": {},
   "outputs": [
    {
     "name": "stdout",
     "output_type": "stream",
     "text": [
      ">> http://test.com/img/img.jpg\n"
     ]
    }
   ],
   "source": [
    "print(\">>\", urljoin(baseUrl, \"../img/img.jpg\"))"
   ]
  },
  {
   "cell_type": "markdown",
   "metadata": {},
   "source": [
    "### beautiful soup basic\n",
    "\n",
    "[You can refer the beautiful soup reference.](https://www.crummy.com/software/BeautifulSoup/bs4/doc/)"
   ]
  },
  {
   "cell_type": "code",
   "execution_count": 21,
   "metadata": {},
   "outputs": [],
   "source": [
    "from bs4 import BeautifulSoup\n",
    "import sys\n",
    "import os\n",
    "\n",
    "html = \"\"\"\n",
    "<html>\n",
    "<body>\n",
    "<h1> Python BeautifulSoup study </h1>\n",
    "<p> tag selector </p><p> css selector </p>\n",
    "</body>\n",
    "</html>\n",
    "\"\"\""
   ]
  },
  {
   "cell_type": "markdown",
   "metadata": {},
   "source": [
    "You can parse html with `BeautifulSoup` function using \"html.parser\" feature."
   ]
  },
  {
   "cell_type": "code",
   "execution_count": 22,
   "metadata": {},
   "outputs": [],
   "source": [
    "soup = BeautifulSoup(html, \"html.parser\")"
   ]
  },
  {
   "cell_type": "markdown",
   "metadata": {},
   "source": [
    "`.prettify()` function shows html easy to read."
   ]
  },
  {
   "cell_type": "code",
   "execution_count": 23,
   "metadata": {},
   "outputs": [
    {
     "name": "stdout",
     "output_type": "stream",
     "text": [
      "<html>\n",
      " <body>\n",
      "  <h1>\n",
      "   Python BeautifulSoup study\n",
      "  </h1>\n",
      "  <p>\n",
      "   tag selector\n",
      "  </p>\n",
      "  <p>\n",
      "   css selector\n",
      "  </p>\n",
      " </body>\n",
      "</html>\n",
      "\n"
     ]
    }
   ],
   "source": [
    "print(soup.prettify())"
   ]
  },
  {
   "cell_type": "markdown",
   "metadata": {},
   "source": [
    "Let's acess the `<h1>`. If you want to access sub par of html, you can do it with `.`. For example **soup.html.body.h1**"
   ]
  },
  {
   "cell_type": "code",
   "execution_count": 28,
   "metadata": {},
   "outputs": [
    {
     "name": "stdout",
     "output_type": "stream",
     "text": [
      "h1 :  <h1> Python BeautifulSoup study </h1>\n",
      "h1 contents :   Python BeautifulSoup study \n"
     ]
    }
   ],
   "source": [
    "h1 = soup.html.body.h1\n",
    "print(\"h1 : \", h1)\n",
    "print(\"h1 contents : \", h1.string)"
   ]
  },
  {
   "cell_type": "markdown",
   "metadata": {},
   "source": [
    "What about `<p>` case? First, get the first `<p>` and access next `<p>` with `.next_sibling`. <br>\n",
    "※ If html has `<p> </p>` \\n `<p> </p>` structure, `.next_sibling` will get the '\\n'. Therefore, you'd better preprocess for remocing '\\n' or should use `.next_sibling` twice. (.next_sibling.next_sibling)."
   ]
  },
  {
   "cell_type": "code",
   "execution_count": 30,
   "metadata": {},
   "outputs": [
    {
     "name": "stdout",
     "output_type": "stream",
     "text": [
      "p1 :  <p> tag selector </p>\n",
      "p2 :  <p> css selector </p>\n"
     ]
    }
   ],
   "source": [
    "p1 = soup.html.body.p\n",
    "print(\"p1 : \", p1)\n",
    "p2 = p1.next_sibling\n",
    "print(\"p2 : \", p2)"
   ]
  },
  {
   "cell_type": "markdown",
   "metadata": {},
   "source": [
    "`.previous_sibling` method access previous `<p> </p>`."
   ]
  },
  {
   "cell_type": "code",
   "execution_count": 31,
   "metadata": {},
   "outputs": [
    {
     "name": "stdout",
     "output_type": "stream",
     "text": [
      "p3 :  <p> tag selector </p>\n"
     ]
    }
   ],
   "source": [
    "p3 = p2.previous_sibling\n",
    "print(\"p3 : \", p3)"
   ]
  },
  {
   "cell_type": "markdown",
   "metadata": {},
   "source": [
    "### beautiful soup - tag selector"
   ]
  },
  {
   "cell_type": "code",
   "execution_count": 43,
   "metadata": {},
   "outputs": [],
   "source": [
    "html = \"\"\"\n",
    "<html>\n",
    "<body>\n",
    "    <ul>\n",
    "        <li><a href = \"http://www.google.com\">google</a></li>\n",
    "        <li><a href = \"httpL//www.yahoo.com\">yahoo</a></li>\n",
    "        <li><a href = \"http://www.naver.com\">naver</a></li>        \n",
    "        <li><a href = \"http://www.github.com\">github</a></li>\n",
    "        <li><a href = \"http://www.github.com/gaussian37\">github</a></li>\n",
    "    </ul>\n",
    "</body>\n",
    "</html>\n",
    "\n",
    "\"\"\"\n",
    "\n",
    "soup = BeautifulSoup(html, \"html.parser\")"
   ]
  },
  {
   "cell_type": "markdown",
   "metadata": {},
   "source": [
    "`.find_all` function extracts a list of Tag objects that match the given criteria.  You can specify the name of the Tag and any"
   ]
  },
  {
   "cell_type": "code",
   "execution_count": 44,
   "metadata": {},
   "outputs": [],
   "source": [
    "links = soup.find_all(\"a\")"
   ]
  },
  {
   "cell_type": "code",
   "execution_count": 45,
   "metadata": {},
   "outputs": [
    {
     "name": "stdout",
     "output_type": "stream",
     "text": [
      ">> link :  <class 'bs4.element.Tag'> <a href=\"http://www.google.com\">google</a>\n",
      ">> text :  google\n",
      ">> href :  http://www.google.com\n",
      "\n",
      ">> link :  <class 'bs4.element.Tag'> <a href=\"httpL//www.yahoo.com\">yahoo</a>\n",
      ">> text :  yahoo\n",
      ">> href :  httpL//www.yahoo.com\n",
      "\n",
      ">> link :  <class 'bs4.element.Tag'> <a href=\"http://www.naver.com\">naver</a>\n",
      ">> text :  naver\n",
      ">> href :  http://www.naver.com\n",
      "\n",
      ">> link :  <class 'bs4.element.Tag'> <a href=\"http://www.github.com\">github</a>\n",
      ">> text :  github\n",
      ">> href :  http://www.github.com\n",
      "\n",
      ">> link :  <class 'bs4.element.Tag'> <a href=\"http://www.github.com/gaussian37\">github</a>\n",
      ">> text :  github\n",
      ">> href :  http://www.github.com/gaussian37\n",
      "\n"
     ]
    }
   ],
   "source": [
    "for link in links:\n",
    "    print(\">> link : \", type(link), link)\n",
    "    print(\">> text : \", link.string)\n",
    "    print(\">> href : \", link.attrs[\"href\"])\n",
    "    print()"
   ]
  },
  {
   "cell_type": "markdown",
   "metadata": {},
   "source": [
    "You also can find specific condition tag."
   ]
  },
  {
   "cell_type": "code",
   "execution_count": 48,
   "metadata": {},
   "outputs": [
    {
     "name": "stdout",
     "output_type": "stream",
     "text": [
      "[<a href=\"http://www.github.com\">github</a>, <a href=\"http://www.github.com/gaussian37\">github</a>]\n"
     ]
    }
   ],
   "source": [
    "github_tags = soup.find_all(name = \"a\", string = \"github\")\n",
    "print(github_tags)"
   ]
  },
  {
   "cell_type": "markdown",
   "metadata": {},
   "source": [
    "If you want to find limited number of result, you can use **limit option.**"
   ]
  },
  {
   "cell_type": "code",
   "execution_count": 53,
   "metadata": {},
   "outputs": [
    {
     "name": "stdout",
     "output_type": "stream",
     "text": [
      "[<a href=\"http://www.github.com\">github</a>]\n"
     ]
    }
   ],
   "source": [
    "github_tag = soup.find_all(name = \"a\", string = \"github\", limit= 1)\n",
    "print(github_tag)"
   ]
  },
  {
   "cell_type": "markdown",
   "metadata": {},
   "source": [
    "You can also \"only\" find the string. You'd better use regular expression to find the string."
   ]
  },
  {
   "cell_type": "code",
   "execution_count": 54,
   "metadata": {},
   "outputs": [
    {
     "name": "stdout",
     "output_type": "stream",
     "text": [
      "['google', 'github', 'github']\n"
     ]
    }
   ],
   "source": [
    "txt_find = soup.find_all(string = [\"google\", \"github\"])\n",
    "print(txt_find)"
   ]
  },
  {
   "cell_type": "markdown",
   "metadata": {},
   "source": [
    "### Beautiful Soup - CSS tag\n",
    "\n",
    "+ Reference\n",
    "  - https://www.w3schools.com/cssref/css_selectors.asp <br>\n",
    "  - https://www.w3schools.com/cssref/trysel.asp"
   ]
  },
  {
   "cell_type": "code",
   "execution_count": 57,
   "metadata": {},
   "outputs": [],
   "source": [
    "html = \"\"\"\n",
    "<html>\n",
    "<body>\n",
    "<div id=\"main\">\n",
    "    <h1> lecture list </h1>\n",
    "    <ul class = \"lectures\">\n",
    "        <li> Python </li>\n",
    "        <li> Crawling </li>\n",
    "        <li> Machine Learning </li>\n",
    "        <li> Deep Learning </li>\n",
    "    </ul>\n",
    "</div>\n",
    "</body>\n",
    "</html>\n",
    "\"\"\""
   ]
  },
  {
   "cell_type": "code",
   "execution_count": 61,
   "metadata": {},
   "outputs": [
    {
     "name": "stdout",
     "output_type": "stream",
     "text": [
      "h1 :  [<h1> lecture list </h1>]\n",
      "h1 type :  <class 'list'>\n"
     ]
    }
   ],
   "source": [
    "soup = BeautifulSoup(html, \"html.parser\")\n",
    "h1 = soup.select(\"div#main > h1\")\n",
    "print(\"h1 : \", h1)\n",
    "print(\"h1 type : \", type(h1))"
   ]
  },
  {
   "cell_type": "code",
   "execution_count": 64,
   "metadata": {},
   "outputs": [
    {
     "name": "stdout",
     "output_type": "stream",
     "text": [
      "li :   Python \n",
      "li :   Crawling \n",
      "li :   Machine Learning \n",
      "li :   Deep Learning \n"
     ]
    }
   ],
   "source": [
    "list_li = soup.select(\"div#main > ul.lectures > li\")\n",
    "for li in list_li:\n",
    "    print(\"li : \", li.string)"
   ]
  },
  {
   "cell_type": "markdown",
   "metadata": {},
   "source": [
    "## Beautifulsoup selector example !!"
   ]
  },
  {
   "cell_type": "code",
   "execution_count": 66,
   "metadata": {},
   "outputs": [],
   "source": [
    "from bs4 import BeautifulSoup\n",
    "import sys\n",
    "import os\n",
    "\n",
    "html = \"\"\"\n",
    "<html>\n",
    "<body>\n",
    "    <ul>\n",
    "        <li><a id = \"google\" href = \"http://www.google.com\">google</a></li>\n",
    "        <li><a id = \"yahoo\" href = \"http://www.yahoo.com\">yahoo</a></li>\n",
    "        <li><a id = \"naver\" href = \"http://www.naver.com\">naver</a></li>        \n",
    "        <li><a id = \"github\" href = \"https://www.github.com\">github</a></li>\n",
    "        <li><a href = \"https://www.github.com/gaussian37\">github</a></li>\n",
    "    </ul>\n",
    "</body>\n",
    "</html>\n",
    "\n",
    "\"\"\""
   ]
  },
  {
   "cell_type": "markdown",
   "metadata": {},
   "source": [
    "### find a string with tag"
   ]
  },
  {
   "cell_type": "code",
   "execution_count": 71,
   "metadata": {},
   "outputs": [
    {
     "name": "stdout",
     "output_type": "stream",
     "text": [
      "[<a href=\"http://www.google.com\" id=\"google\">google</a>]\n"
     ]
    }
   ],
   "source": [
    "soup = BeautifulSoup(html, 'html.parser')\n",
    "google = soup.find_all(name = \"a\", string = \"google\")\n",
    "print(google)"
   ]
  },
  {
   "cell_type": "markdown",
   "metadata": {},
   "source": [
    "### find a string with tag ID"
   ]
  },
  {
   "cell_type": "code",
   "execution_count": 33,
   "metadata": {},
   "outputs": [],
   "source": [
    "yahoo = soup.find_all(id = \"yahoo\")"
   ]
  },
  {
   "cell_type": "code",
   "execution_count": 34,
   "metadata": {},
   "outputs": [
    {
     "name": "stdout",
     "output_type": "stream",
     "text": [
      "[<a href=\"httpL//www.yahoo.com\" id=\"yahoo\">yahoo</a>]\n"
     ]
    }
   ],
   "source": [
    "print(yahoo)"
   ]
  },
  {
   "cell_type": "markdown",
   "metadata": {},
   "source": [
    "### find a string with regular expression\n",
    "\n",
    "[regular expression reference](http://pythonstudy.xyz/python/article/401-%EC%A0%95%EA%B7%9C-%ED%91%9C%ED%98%84%EC%8B%9D-Regex)"
   ]
  },
  {
   "cell_type": "code",
   "execution_count": 39,
   "metadata": {},
   "outputs": [],
   "source": [
    "import re"
   ]
  },
  {
   "cell_type": "code",
   "execution_count": 43,
   "metadata": {},
   "outputs": [],
   "source": [
    "lis = soup.find_all(href = re.compile(r\"^https://\"))"
   ]
  },
  {
   "cell_type": "code",
   "execution_count": 46,
   "metadata": {},
   "outputs": [
    {
     "name": "stdout",
     "output_type": "stream",
     "text": [
      "<a href=\"https://www.github.com\" id=\"github\">github</a>\n",
      "https://www.github.com\n",
      "<a href=\"https://www.github.com/gaussian37\">github</a>\n",
      "https://www.github.com/gaussian37\n"
     ]
    }
   ],
   "source": [
    "for li in lis:\n",
    "    print(li)\n",
    "    print(li.attrs[\"href\"])"
   ]
  },
  {
   "cell_type": "code",
   "execution_count": 80,
   "metadata": {},
   "outputs": [],
   "source": [
    "lis = soup.find_all(href = re.compile(r\"^http://\\w{3}.\\w{6}\"))"
   ]
  },
  {
   "cell_type": "code",
   "execution_count": 81,
   "metadata": {},
   "outputs": [
    {
     "data": {
      "text/plain": [
       "[<a href=\"http://www.google.com\" id=\"google\">google</a>]"
      ]
     },
     "execution_count": 81,
     "metadata": {},
     "output_type": "execute_result"
    }
   ],
   "source": [
    "lis"
   ]
  },
  {
   "cell_type": "markdown",
   "metadata": {},
   "source": [
    "### find a string with CSS selector example"
   ]
  },
  {
   "cell_type": "code",
   "execution_count": 92,
   "metadata": {},
   "outputs": [],
   "source": [
    "from bs4 import BeautifulSoup\n",
    "import sys\n",
    "import os\n",
    "\n",
    "food_list = \"\"\"\n",
    "<html>\n",
    "<body>\n",
    "<div id = \"foods\">\n",
    "<h1> menu </h1>\n",
    "    <ul id = \"food-list\">\n",
    "        <li class = \"food hot\" data-lo = \"ko\">chicken</li>\n",
    "        <li class = \"food\" data-lo = \"jp\">pork cutlet</li>\n",
    "        <li class = \"food hot\" data-lo = \"ko\">bbq</li>\n",
    "        <li class = \"food\" data-lo = \"us\">steak</li>    \n",
    "    </ul>\n",
    "    <ul id = \"alcohol-list\">\n",
    "        <li class = \"alcohol\" data-lo = \"ko\">soju</li>\n",
    "        <li class = \"alcohol\" data-lo = \"us\">beer</li>    \n",
    "        <li class = \"alcohol\" data-lo = \"ko\">whiskey</li>   \n",
    "        <li class = \"alcohol high\" data-lo = \"ru\">vodka</li>    \n",
    "        <li class = \"alcohol\" data-lo = \"jp\">sake</li>            \n",
    "    </ul>\n",
    "</div>\n",
    "</body>\n",
    "</html>\n",
    "\"\"\""
   ]
  },
  {
   "cell_type": "code",
   "execution_count": 93,
   "metadata": {},
   "outputs": [],
   "source": [
    "soup = BeautifulSoup(food_list, \"html.parser\")"
   ]
  },
  {
   "cell_type": "markdown",
   "metadata": {},
   "source": [
    "Let's access **vodka**."
   ]
  },
  {
   "cell_type": "code",
   "execution_count": 107,
   "metadata": {},
   "outputs": [
    {
     "name": "stdout",
     "output_type": "stream",
     "text": [
      "vodka\n"
     ]
    }
   ],
   "source": [
    "print(soup.select_one(\"li:nth-of-type(8)\").string)"
   ]
  },
  {
   "cell_type": "code",
   "execution_count": 108,
   "metadata": {},
   "outputs": [
    {
     "name": "stdout",
     "output_type": "stream",
     "text": [
      "vodka\n"
     ]
    }
   ],
   "source": [
    "print(soup.select_one(\"#alcohol-list > li:nth-of-type(4)\").string)"
   ]
  },
  {
   "cell_type": "markdown",
   "metadata": {},
   "source": [
    "Ref : `soup.select` returns list not string."
   ]
  },
  {
   "cell_type": "code",
   "execution_count": 109,
   "metadata": {},
   "outputs": [
    {
     "name": "stdout",
     "output_type": "stream",
     "text": [
      "vodka\n"
     ]
    }
   ],
   "source": [
    "print(soup.select(\"#alcohol-list > li[data-lo='ru']\")[0].string)"
   ]
  },
  {
   "cell_type": "code",
   "execution_count": 112,
   "metadata": {},
   "outputs": [
    {
     "name": "stdout",
     "output_type": "stream",
     "text": [
      "vodka\n"
     ]
    }
   ],
   "source": [
    "print(soup.select(\"#alcohol-list > li.alcohol.high\")[0].string)"
   ]
  },
  {
   "cell_type": "code",
   "execution_count": 121,
   "metadata": {},
   "outputs": [
    {
     "name": "stdout",
     "output_type": "stream",
     "text": [
      "vodka\n"
     ]
    }
   ],
   "source": [
    "param = {\"data-lo\" : \"ru\"}\n",
    "print(soup.find(\"li\", {\"data-lo\":\"ru\"}).string)"
   ]
  },
  {
   "cell_type": "code",
   "execution_count": 123,
   "metadata": {},
   "outputs": [
    {
     "name": "stdout",
     "output_type": "stream",
     "text": [
      "vodka\n"
     ]
    }
   ],
   "source": [
    "print(soup.find(id = \"alcohol-list\").find(\"li\", param).string)"
   ]
  },
  {
   "cell_type": "code",
   "execution_count": 126,
   "metadata": {},
   "outputs": [
    {
     "name": "stdout",
     "output_type": "stream",
     "text": [
      "steak\n",
      "beer\n"
     ]
    }
   ],
   "source": [
    "for e in soup.find_all(\"li\"):\n",
    "    if e[\"data-lo\"] == \"us\":\n",
    "        print(e.string)"
   ]
  },
  {
   "cell_type": "code",
   "execution_count": 131,
   "metadata": {},
   "outputs": [],
   "source": [
    "car_list = \"\"\"\n",
    "<ul id = \"cars\">\n",
    "    <li id = \"ge\">Genesis</li>\n",
    "    <li id = \"av\">Avante</li>\n",
    "    <li id = \"so\">Sonata</li>\n",
    "    <li id = \"gr\">Granduer</li>    \n",
    "    <li id = \"tu\">Tucson</li>\n",
    "</ul>\n",
    "\"\"\"\n",
    "\n",
    "soup = BeautifulSoup(car_list, \"html.parser\")"
   ]
  },
  {
   "cell_type": "code",
   "execution_count": 132,
   "metadata": {},
   "outputs": [],
   "source": [
    "def car_list_function(selector):\n",
    "    print(\"car list : \", soup.select_one(selector).string)"
   ]
  },
  {
   "cell_type": "markdown",
   "metadata": {},
   "source": [
    "In order to access the `id`, enter the `#id`"
   ]
  },
  {
   "cell_type": "code",
   "execution_count": 133,
   "metadata": {},
   "outputs": [
    {
     "name": "stdout",
     "output_type": "stream",
     "text": [
      "car list :  Granduer\n"
     ]
    }
   ],
   "source": [
    "car_list_function(\"#gr\")"
   ]
  },
  {
   "cell_type": "code",
   "execution_count": 135,
   "metadata": {},
   "outputs": [
    {
     "name": "stdout",
     "output_type": "stream",
     "text": [
      "car list :  Granduer\n"
     ]
    }
   ],
   "source": [
    "car_list_function(\"li#gr\")"
   ]
  },
  {
   "cell_type": "code",
   "execution_count": 136,
   "metadata": {},
   "outputs": [
    {
     "name": "stdout",
     "output_type": "stream",
     "text": [
      "car list :  Tucson\n"
     ]
    }
   ],
   "source": [
    "car_list_function(\"ul > li#tu\")"
   ]
  },
  {
   "cell_type": "code",
   "execution_count": 140,
   "metadata": {},
   "outputs": [
    {
     "name": "stdout",
     "output_type": "stream",
     "text": [
      "car list :  Granduer\n"
     ]
    }
   ],
   "source": [
    "car_list_function(\"#cars > #gr\")"
   ]
  },
  {
   "cell_type": "code",
   "execution_count": 141,
   "metadata": {},
   "outputs": [
    {
     "name": "stdout",
     "output_type": "stream",
     "text": [
      "car list :  Granduer\n"
     ]
    }
   ],
   "source": [
    "car_list_function(\"li[id='gr']\")"
   ]
  },
  {
   "cell_type": "code",
   "execution_count": 143,
   "metadata": {},
   "outputs": [
    {
     "name": "stdout",
     "output_type": "stream",
     "text": [
      "with soup.select :  Granduer\n"
     ]
    }
   ],
   "source": [
    "print(\"with soup.select : \", soup.select(\"li\")[3].string)"
   ]
  },
  {
   "cell_type": "code",
   "execution_count": 145,
   "metadata": {},
   "outputs": [
    {
     "name": "stdout",
     "output_type": "stream",
     "text": [
      "with soup.find_all :  Granduer\n"
     ]
    }
   ],
   "source": [
    "print(\"with soup.find_all : \", soup.find_all(\"li\")[3].string)"
   ]
  },
  {
   "cell_type": "markdown",
   "metadata": {},
   "source": [
    "We also can use `Lambda function`"
   ]
  },
  {
   "cell_type": "code",
   "execution_count": 155,
   "metadata": {},
   "outputs": [],
   "source": [
    "car_list_lambda = lambda selection : print(\"car_lambda : \", soup.select_one(selection).string)"
   ]
  },
  {
   "cell_type": "code",
   "execution_count": 156,
   "metadata": {},
   "outputs": [
    {
     "name": "stdout",
     "output_type": "stream",
     "text": [
      "car_lambda :  Genesis\n"
     ]
    }
   ],
   "source": [
    "car_list_lambda(\"#cars > #ge\")"
   ]
  }
 ],
 "metadata": {
  "kernelspec": {
   "display_name": "Python 3",
   "language": "python",
   "name": "python3"
  },
  "language_info": {
   "codemirror_mode": {
    "name": "ipython",
    "version": 3
   },
   "file_extension": ".py",
   "mimetype": "text/x-python",
   "name": "python",
   "nbconvert_exporter": "python",
   "pygments_lexer": "ipython3",
   "version": "3.6.6"
  },
  "latex_envs": {
   "LaTeX_envs_menu_present": true,
   "autoclose": false,
   "autocomplete": true,
   "bibliofile": "biblio.bib",
   "cite_by": "apalike",
   "current_citInitial": 1,
   "eqLabelWithNumbers": true,
   "eqNumInitial": 1,
   "hotkeys": {
    "equation": "Ctrl-E",
    "itemize": "Ctrl-I"
   },
   "labels_anchors": false,
   "latex_user_defs": false,
   "report_style_numbering": false,
   "user_envs_cfg": false
  },
  "varInspector": {
   "cols": {
    "lenName": 16,
    "lenType": 16,
    "lenVar": 40
   },
   "kernels_config": {
    "python": {
     "delete_cmd_postfix": "",
     "delete_cmd_prefix": "del ",
     "library": "var_list.py",
     "varRefreshCmd": "print(var_dic_list())"
    },
    "r": {
     "delete_cmd_postfix": ") ",
     "delete_cmd_prefix": "rm(",
     "library": "var_list.r",
     "varRefreshCmd": "cat(var_dic_list()) "
    }
   },
   "types_to_exclude": [
    "module",
    "function",
    "builtin_function_or_method",
    "instance",
    "_Feature"
   ],
   "window_display": false
  }
 },
 "nbformat": 4,
 "nbformat_minor": 2
}
