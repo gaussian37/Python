{
 "cells": [
  {
   "cell_type": "markdown",
   "metadata": {},
   "source": [
    "# read json data"
   ]
  },
  {
   "cell_type": "markdown",
   "metadata": {},
   "source": [
    "### simplejson is the upgraded version of json"
   ]
  },
  {
   "cell_type": "code",
   "execution_count": 2,
   "metadata": {},
   "outputs": [],
   "source": [
    "import simplejson as json"
   ]
  },
  {
   "cell_type": "markdown",
   "metadata": {},
   "source": [
    "+ Define dict(json)\n",
    "\n",
    "By this site(https://jsoneditoronline.org/), you can set alignment the JSON file or check the structure easily."
   ]
  },
  {
   "cell_type": "code",
   "execution_count": 14,
   "metadata": {},
   "outputs": [],
   "source": [
    "data = {}\n",
    "data[\"people\"] = []\n",
    "data[\"people\"].append({\n",
    "    \"name\" : \"Kim\",\n",
    "    \"Job\" : \"Engineer\",\n",
    "    \"Home\" : \"Suji\",\n",
    "    \"Grade\" : [70, 75, 80]\n",
    "})\n",
    "\n",
    "data[\"people\"].append({\n",
    "    \"name\" : \"Lee\",\n",
    "    \"Job\" : \"Literature Writer\",\n",
    "    \"Home\" : \"Hwaseong\",\n",
    "    \"Grade\" : [30, 40, 20]\n",
    "})\n",
    "\n",
    "data[\"people\"].append({\n",
    "    \"name\" : \"Park\",\n",
    "    \"Job\" : \"Doctor\",\n",
    "    \"Home\" : \"Gang-nam\",\n",
    "    \"Grade\" : [80, 85, 90]\n",
    "})"
   ]
  },
  {
   "cell_type": "code",
   "execution_count": 15,
   "metadata": {},
   "outputs": [
    {
     "name": "stdout",
     "output_type": "stream",
     "text": [
      "<class 'dict'>\n",
      "{'people': [{'name': 'Kim', 'Job': 'Engineer', 'Home': 'Suji', 'Grade': [70, 75, 80]}, {'name': 'Lee', 'Job': 'Literature Writer', 'Home': 'Hwaseong', 'Grade': [30, 40, 20]}, {'name': 'Park', 'Job': 'Doctor', 'Home': 'Gang-nam', 'Grade': [80, 85, 90]}]}\n"
     ]
    }
   ],
   "source": [
    "print(type(data))\n",
    "print(data)"
   ]
  },
  {
   "cell_type": "markdown",
   "metadata": {},
   "source": [
    "## Check the `json.dump()` vs `json.dumps()`\n",
    "\n",
    "+ json.dump() : `file/socket or whatever`\n",
    "    - Serialize **obj as a JSON formatted stream to fp** (a .write()-supporting file-like object\n",
    "    - If ensure_ascii is False, some chunks written to fp may be unicode instances\n",
    "    \n",
    "+ json.dumps() : `string (for printing, parsing or whatever) `\n",
    "    - Serialize obj to a **JSON formatted str**\n",
    "    - If ensure_ascii is False, the result may contain non-ASCII characters and the return value may be a unicode instance\n",
    "\n",
    "\n",
    "### Dict type data → String data → Dict type data\n",
    "\n",
    "+ Write json file"
   ]
  },
  {
   "cell_type": "code",
   "execution_count": 19,
   "metadata": {},
   "outputs": [
    {
     "name": "stdout",
     "output_type": "stream",
     "text": [
      "<class 'str'>\n",
      "{\n",
      "    \"people\": [\n",
      "        {\n",
      "            \"name\": \"Kim\",\n",
      "            \"Job\": \"Engineer\",\n",
      "            \"Home\": \"Suji\",\n",
      "            \"Grade\": [\n",
      "                70,\n",
      "                75,\n",
      "                80\n",
      "            ]\n",
      "        },\n",
      "        {\n",
      "            \"name\": \"Lee\",\n",
      "            \"Job\": \"Literature Writer\",\n",
      "            \"Home\": \"Hwaseong\",\n",
      "            \"Grade\": [\n",
      "                30,\n",
      "                40,\n",
      "                20\n",
      "            ]\n",
      "        },\n",
      "        {\n",
      "            \"name\": \"Park\",\n",
      "            \"Job\": \"Doctor\",\n",
      "            \"Home\": \"Gang-nam\",\n",
      "            \"Grade\": [\n",
      "                80,\n",
      "                85,\n",
      "                90\n",
      "            ]\n",
      "        }\n",
      "    ]\n",
      "}\n"
     ]
    }
   ],
   "source": [
    "e = json.dumps(data, indent= 4)\n",
    "print(type(e))\n",
    "print(e)\n",
    "\n",
    "with open(\"./data/member.json\", \"w\") as outfile:\n",
    "    outfile.write(json.dumps(data, indent = 4))"
   ]
  },
  {
   "cell_type": "markdown",
   "metadata": {},
   "source": [
    "+ read json file"
   ]
  },
  {
   "cell_type": "code",
   "execution_count": 20,
   "metadata": {},
   "outputs": [
    {
     "name": "stdout",
     "output_type": "stream",
     "text": [
      "<class 'dict'>\n",
      "{'people': [{'name': 'Kim', 'Job': 'Engineer', 'Home': 'Suji', 'Grade': [70, 75, 80]}, {'name': 'Lee', 'Job': 'Literature Writer', 'Home': 'Hwaseong', 'Grade': [30, 40, 20]}, {'name': 'Park', 'Job': 'Doctor', 'Home': 'Gang-nam', 'Grade': [80, 85, 90]}]}\n",
      "----------\n",
      "Name : Kim\n",
      "Job : Engineer\n",
      "Home : Suji\n",
      "\n",
      "Name : Lee\n",
      "Job : Literature Writer\n",
      "Home : Hwaseong\n",
      "\n",
      "Name : Park\n",
      "Job : Doctor\n",
      "Home : Gang-nam\n",
      "\n"
     ]
    }
   ],
   "source": [
    "d = json.loads(e)\n",
    "print(type(d))\n",
    "print(d)\n",
    "\n",
    "with open(\"./data/member.json\", \"r\") as infile:\n",
    "    r = json.loads(infile.read())\n",
    "    print(\"----------\")\n",
    "    \n",
    "    for p in r[\"people\"]:\n",
    "        print(\"Name : \" + p[\"name\"])\n",
    "        print(\"Job : \" + p[\"Job\"])\n",
    "        print(\"Home : \" + p[\"Home\"])\n",
    "        print()"
   ]
  },
  {
   "cell_type": "markdown",
   "metadata": {},
   "source": [
    "### Dict type data → Object data → Dict type data\n",
    "\n",
    "`json.dump` method is used for just writing file and read it. but `json.dumps` method is used for processing contents.(so, return type is string)\n",
    "\n",
    "+ write"
   ]
  },
  {
   "cell_type": "code",
   "execution_count": 22,
   "metadata": {},
   "outputs": [],
   "source": [
    "with open(\"./data/member2.json\", \"w\") as outfile:\n",
    "    json.dump(data, outfile, indent = 4)"
   ]
  },
  {
   "cell_type": "markdown",
   "metadata": {},
   "source": [
    "+ read"
   ]
  },
  {
   "cell_type": "code",
   "execution_count": 27,
   "metadata": {},
   "outputs": [
    {
     "name": "stdout",
     "output_type": "stream",
     "text": [
      "<class 'dict'>\n",
      "Name : Kim\n",
      "Job : Engineer\n",
      "Home : Suji\n",
      "Grade :   70 75 80\n",
      "\n",
      "Name : Lee\n",
      "Job : Literature Writer\n",
      "Home : Hwaseong\n",
      "Grade :   30 40 20\n",
      "\n",
      "Name : Park\n",
      "Job : Doctor\n",
      "Home : Gang-nam\n",
      "Grade :   80 85 90\n",
      "\n"
     ]
    }
   ],
   "source": [
    "with open(\"./data/member2.json\", \"r\") as infile:\n",
    "    r = json.load(infile)\n",
    "    print(type(r))\n",
    "    \n",
    "    for p in r[\"people\"]:\n",
    "        print(\"Name : \" + p[\"name\"])\n",
    "        print(\"Job : \" + p[\"Job\"])\n",
    "        print(\"Home : \" + p[\"Home\"])\n",
    "        \n",
    "        grade = \"\"\n",
    "        for g in p[\"Grade\"]:\n",
    "            grade = grade + \" \" + str(g)\n",
    "        print(\"Grade : \", grade)\n",
    "        print()    \n",
    "    "
   ]
  },
  {
   "cell_type": "markdown",
   "metadata": {},
   "source": [
    "### example"
   ]
  },
  {
   "cell_type": "code",
   "execution_count": 29,
   "metadata": {},
   "outputs": [],
   "source": [
    "import os\n",
    "import urllib.request as req\n",
    "import simplejson as json\n",
    "\n",
    "\n",
    "url = \"https://api.github.com/repositories\"\n",
    "savename = \"./data/repo.json\""
   ]
  },
  {
   "cell_type": "code",
   "execution_count": 30,
   "metadata": {},
   "outputs": [
    {
     "name": "stdout",
     "output_type": "stream",
     "text": [
      "check download\n"
     ]
    }
   ],
   "source": [
    "if not os.path.exists(savename):\n",
    "    req.urlretrieve(url, savename)\n",
    "    print(\"check download\")"
   ]
  },
  {
   "cell_type": "code",
   "execution_count": 31,
   "metadata": {},
   "outputs": [],
   "source": [
    "items = json.load(open(savename, 'r', encoding=\"utf-8\"))\n",
    "# items = json.loads(open(savename, 'r', encoding = \"utf-8\").read())"
   ]
  },
  {
   "cell_type": "code",
   "execution_count": 32,
   "metadata": {},
   "outputs": [
    {
     "name": "stdout",
     "output_type": "stream",
     "text": [
      "mojombo/grit-https://api.github.com/users/mojombo\n",
      "wycats/merb-core-https://api.github.com/users/wycats\n",
      "rubinius/rubinius-https://api.github.com/users/rubinius\n",
      "mojombo/god-https://api.github.com/users/mojombo\n",
      "vanpelt/jsawesome-https://api.github.com/users/vanpelt\n",
      "wycats/jspec-https://api.github.com/users/wycats\n",
      "defunkt/exception_logger-https://api.github.com/users/defunkt\n",
      "defunkt/ambition-https://api.github.com/users/defunkt\n",
      "technoweenie/restful-authentication-https://api.github.com/users/technoweenie\n",
      "technoweenie/attachment_fu-https://api.github.com/users/technoweenie\n",
      "Caged/microsis-https://api.github.com/users/Caged\n",
      "anotherjesse/s3-https://api.github.com/users/anotherjesse\n",
      "anotherjesse/taboo-https://api.github.com/users/anotherjesse\n",
      "anotherjesse/foxtracs-https://api.github.com/users/anotherjesse\n",
      "anotherjesse/fotomatic-https://api.github.com/users/anotherjesse\n",
      "mojombo/glowstick-https://api.github.com/users/mojombo\n",
      "defunkt/starling-https://api.github.com/users/defunkt\n",
      "wycats/merb-more-https://api.github.com/users/wycats\n",
      "macournoyer/thin-https://api.github.com/users/macournoyer\n",
      "jamesgolick/resource_controller-https://api.github.com/users/jamesgolick\n",
      "jamesgolick/markaby-https://api.github.com/users/jamesgolick\n",
      "jamesgolick/enum_field-https://api.github.com/users/jamesgolick\n",
      "defunkt/subtlety-https://api.github.com/users/defunkt\n",
      "defunkt/zippy-https://api.github.com/users/defunkt\n",
      "defunkt/cache_fu-https://api.github.com/users/defunkt\n",
      "KirinDave/phosphor-https://api.github.com/users/KirinDave\n",
      "bmizerany/sinatra-https://api.github.com/users/bmizerany\n",
      "jnewland/gsa-prototype-https://api.github.com/users/jnewland\n",
      "technoweenie/duplikate-https://api.github.com/users/technoweenie\n",
      "jnewland/lazy_record-https://api.github.com/users/jnewland\n",
      "jnewland/gsa-feeds-https://api.github.com/users/jnewland\n",
      "jnewland/votigoto-https://api.github.com/users/jnewland\n",
      "defunkt/mofo-https://api.github.com/users/defunkt\n",
      "jnewland/xhtmlize-https://api.github.com/users/jnewland\n",
      "ruby-git/ruby-git-https://api.github.com/users/ruby-git\n",
      "ezmobius/bmhsearch-https://api.github.com/users/ezmobius\n",
      "uggedal/mofo-https://api.github.com/users/uggedal\n",
      "mmower/simply_versioned-https://api.github.com/users/mmower\n",
      "abhay/gchart-https://api.github.com/users/abhay\n",
      "benburkert/schemr-https://api.github.com/users/benburkert\n",
      "abhay/calais-https://api.github.com/users/abhay\n",
      "mojombo/chronic-https://api.github.com/users/mojombo\n",
      "sr/git-wiki-https://api.github.com/users/sr\n",
      "queso/signal-wiki-https://api.github.com/users/queso\n",
      "drnic/ruby-on-rails-tmbundle-https://api.github.com/users/drnic\n",
      "danwrong/low-pro-for-jquery-https://api.github.com/users/danwrong\n",
      "wayneeseguin/merb-core-https://api.github.com/users/wayneeseguin\n",
      "sr/dst-https://api.github.com/users/sr\n",
      "mojombo/yaws-https://api.github.com/users/mojombo\n",
      "KirinDave/yaws-https://api.github.com/users/KirinDave\n",
      "sr/tasks-https://api.github.com/users/sr\n",
      "mattetti/ruby-on-rails-tmbundle-https://api.github.com/users/mattetti\n",
      "grempe/amazon-ec2-https://api.github.com/users/grempe\n",
      "wayneeseguin/merblogger-https://api.github.com/users/wayneeseguin\n",
      "wayneeseguin/merbtastic-https://api.github.com/users/wayneeseguin\n",
      "wayneeseguin/alogr-https://api.github.com/users/wayneeseguin\n",
      "wayneeseguin/autozest-https://api.github.com/users/wayneeseguin\n",
      "wayneeseguin/rnginx-https://api.github.com/users/wayneeseguin\n",
      "wayneeseguin/sequel-https://api.github.com/users/wayneeseguin\n",
      "bmizerany/simply_versioned-https://api.github.com/users/bmizerany\n",
      "peterc/switchpipe-https://api.github.com/users/peterc\n",
      "hornbeck/arc-https://api.github.com/users/hornbeck\n",
      "up_the_irons/ebay4r-https://api.github.com/users/up_the_irons\n",
      "wycats/merb-plugins-https://api.github.com/users/wycats\n",
      "up_the_irons/ram-https://api.github.com/users/up_the_irons\n",
      "defunkt/ambitious_activeldap-https://api.github.com/users/defunkt\n",
      "atmos/fitter_happier-https://api.github.com/users/atmos\n",
      "brosner/oebfare-https://api.github.com/users/brosner\n",
      "up_the_irons/credit_card_tools-https://api.github.com/users/up_the_irons\n",
      "jnicklas/rorem-https://api.github.com/users/jnicklas\n",
      "cristibalan/braid-https://api.github.com/users/cristibalan\n",
      "jnicklas/uploadcolumn-https://api.github.com/users/jnicklas\n",
      "simonjefford/ruby-on-rails-tmbundle-https://api.github.com/users/simonjefford\n",
      "chneukirchen/rack-mirror-https://api.github.com/users/chneukirchen\n",
      "chneukirchen/coset-mirror-https://api.github.com/users/chneukirchen\n",
      "drnic/javascript-unittest-tmbundle-https://api.github.com/users/drnic\n",
      "engineyard/eycap-https://api.github.com/users/engineyard\n",
      "chneukirchen/gitsum-https://api.github.com/users/chneukirchen\n",
      "wayneeseguin/sequel-model-https://api.github.com/users/wayneeseguin\n",
      "kevinclark/god-https://api.github.com/users/kevinclark\n",
      "hornbeck/blerb-core-https://api.github.com/users/hornbeck\n",
      "brosner/django-mptt-https://api.github.com/users/brosner\n",
      "technomancy/bus-scheme-https://api.github.com/users/technomancy\n",
      "Caged/javascript-bits-https://api.github.com/users/Caged\n",
      "Caged/groomlake-https://api.github.com/users/Caged\n",
      "sevenwire/forgery-https://api.github.com/users/sevenwire\n",
      "technicalpickles/ambitious-sphinx-https://api.github.com/users/technicalpickles\n",
      "lazyatom/soup-https://api.github.com/users/lazyatom\n",
      "josh/rails-https://api.github.com/users/josh\n",
      "cdcarter/backpacking-https://api.github.com/users/cdcarter\n",
      "jnewland/capsize-https://api.github.com/users/jnewland\n",
      "bs/starling-https://api.github.com/users/bs\n",
      "sr/ape-https://api.github.com/users/sr\n",
      "collectiveidea/awesomeness-https://api.github.com/users/collectiveidea\n",
      "collectiveidea/audited-https://api.github.com/users/collectiveidea\n",
      "collectiveidea/acts_as_geocodable-https://api.github.com/users/collectiveidea\n",
      "collectiveidea/acts_as_money-https://api.github.com/users/collectiveidea\n",
      "collectiveidea/calendar_builder-https://api.github.com/users/collectiveidea\n",
      "collectiveidea/clear_empty_attributes-https://api.github.com/users/collectiveidea\n",
      "collectiveidea/css_naked_day-https://api.github.com/users/collectiveidea\n"
     ]
    }
   ],
   "source": [
    "for item in items:\n",
    "    print(item[\"full_name\"] + \"-\" + item[\"owner\"][\"url\"])"
   ]
  },
  {
   "cell_type": "code",
   "execution_count": null,
   "metadata": {},
   "outputs": [],
   "source": []
  }
 ],
 "metadata": {
  "kernelspec": {
   "display_name": "Python 3",
   "language": "python",
   "name": "python3"
  },
  "language_info": {
   "codemirror_mode": {
    "name": "ipython",
    "version": 3
   },
   "file_extension": ".py",
   "mimetype": "text/x-python",
   "name": "python",
   "nbconvert_exporter": "python",
   "pygments_lexer": "ipython3",
   "version": "3.6.6"
  },
  "latex_envs": {
   "LaTeX_envs_menu_present": true,
   "autoclose": false,
   "autocomplete": true,
   "bibliofile": "biblio.bib",
   "cite_by": "apalike",
   "current_citInitial": 1,
   "eqLabelWithNumbers": true,
   "eqNumInitial": 1,
   "hotkeys": {
    "equation": "Ctrl-E",
    "itemize": "Ctrl-I"
   },
   "labels_anchors": false,
   "latex_user_defs": false,
   "report_style_numbering": false,
   "user_envs_cfg": false
  },
  "varInspector": {
   "cols": {
    "lenName": 16,
    "lenType": 16,
    "lenVar": 40
   },
   "kernels_config": {
    "python": {
     "delete_cmd_postfix": "",
     "delete_cmd_prefix": "del ",
     "library": "var_list.py",
     "varRefreshCmd": "print(var_dic_list())"
    },
    "r": {
     "delete_cmd_postfix": ") ",
     "delete_cmd_prefix": "rm(",
     "library": "var_list.r",
     "varRefreshCmd": "cat(var_dic_list()) "
    }
   },
   "types_to_exclude": [
    "module",
    "function",
    "builtin_function_or_method",
    "instance",
    "_Feature"
   ],
   "window_display": false
  }
 },
 "nbformat": 4,
 "nbformat_minor": 2
}
