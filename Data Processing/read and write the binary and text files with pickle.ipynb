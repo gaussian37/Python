{
 "cells": [
  {
   "cell_type": "markdown",
   "metadata": {},
   "source": [
    "# read and write the binary and text files with picke"
   ]
  },
  {
   "cell_type": "markdown",
   "metadata": {},
   "source": [
    "+ Pickle library serialize and desirialize the (Object, Text).\n",
    "+ Pickle \"only\" supports python."
   ]
  },
  {
   "cell_type": "code",
   "execution_count": 2,
   "metadata": {},
   "outputs": [],
   "source": [
    "import pickle "
   ]
  },
  {
   "cell_type": "markdown",
   "metadata": {},
   "source": [
    "+ Define file name and data"
   ]
  },
  {
   "cell_type": "code",
   "execution_count": 5,
   "metadata": {},
   "outputs": [],
   "source": [
    "bfilename = \"./data/test.bin\"\n",
    "tfilename = \"./data/test.txt\"\n",
    "\n",
    "data1 = 77\n",
    "data2 = \"Hello, World!\"\n",
    "data3 = [\"car\", \"apple\", \"house\"]"
   ]
  },
  {
   "cell_type": "markdown",
   "metadata": {},
   "source": [
    "+ write binary"
   ]
  },
  {
   "cell_type": "code",
   "execution_count": 6,
   "metadata": {},
   "outputs": [],
   "source": [
    "# pickle.dump : wirte object as serialize type\n",
    "# pickle.dumps : write text(string) as serialize type\n",
    "\n",
    "with open(bfilename, 'wb') as f:\n",
    "    pickle.dump(data1, f)\n",
    "    pickle.dump(data2, f)\n",
    "    pickle.dump(data3, f)   "
   ]
  },
  {
   "cell_type": "markdown",
   "metadata": {},
   "source": [
    "+ write text"
   ]
  },
  {
   "cell_type": "code",
   "execution_count": 8,
   "metadata": {},
   "outputs": [],
   "source": [
    "with open(tfilename, 'wt') as f:\n",
    "    f.write(str(data1))\n",
    "    f.write('\\n')\n",
    "    f.write(data2)\n",
    "    f.write('\\n')\n",
    "    # writelines method join seperated strings. \n",
    "    # ex. [\"car\", \"apple\", \"list\"] => \"carapplelist\"\n",
    "    # In order to divide the string, join with '\\n'. example is below\n",
    "    f.writelines('\\n'.join(data3))"
   ]
  },
  {
   "cell_type": "markdown",
   "metadata": {},
   "source": [
    "+ read binary"
   ]
  },
  {
   "cell_type": "code",
   "execution_count": 10,
   "metadata": {},
   "outputs": [
    {
     "name": "stdout",
     "output_type": "stream",
     "text": [
      "<class 'int'>  Binary read1 |  77\n",
      "<class 'str'>  Binary read2 |  Hello, World!\n",
      "<class 'list'> Binary read3 |  ['car', 'apple', 'house']\n"
     ]
    }
   ],
   "source": [
    "# pickle.load : read object as serialize type\n",
    "# pickle.loads : read text(string) as serialize type\n",
    "\n",
    "# pickle.load let stay the original data type.\n",
    "with open(bfilename, 'rb') as f:\n",
    "    b = pickle.load(f)\n",
    "    print(type(b), \" Binary read1 | \", b)\n",
    "    b = pickle.load(f)\n",
    "    print(type(b), \" Binary read2 | \", b)\n",
    "    b = pickle.load(f)\n",
    "    print(type(b), \"Binary read3 | \", b)   "
   ]
  },
  {
   "cell_type": "markdown",
   "metadata": {},
   "source": [
    "+ read text"
   ]
  },
  {
   "cell_type": "code",
   "execution_count": 13,
   "metadata": {},
   "outputs": [
    {
     "name": "stdout",
     "output_type": "stream",
     "text": [
      "<class 'str'> Text Read1| 77\n",
      "<class 'str'> Text Read2| Hello, World!\n",
      "<class 'str'> Text Read3| car\n",
      "<class 'str'> Text Read4| apple\n",
      "<class 'str'> Text Read5| house"
     ]
    }
   ],
   "source": [
    "# read text doesn't support data type restoration. All data types are converted to string\n",
    "with open(tfilename, 'rt') as f:\n",
    "    for i, line in enumerate(f, 1):\n",
    "        print(type(line), 'Text Read' + str(i) + '|', line, end='')"
   ]
  }
 ],
 "metadata": {
  "kernelspec": {
   "display_name": "Python 3",
   "language": "python",
   "name": "python3"
  },
  "language_info": {
   "codemirror_mode": {
    "name": "ipython",
    "version": 3
   },
   "file_extension": ".py",
   "mimetype": "text/x-python",
   "name": "python",
   "nbconvert_exporter": "python",
   "pygments_lexer": "ipython3",
   "version": "3.6.6"
  }
 },
 "nbformat": 4,
 "nbformat_minor": 2
}
