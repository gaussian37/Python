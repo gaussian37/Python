{
 "cells": [
  {
   "cell_type": "markdown",
   "metadata": {},
   "source": [
    "# Numpy Basic\n",
    "\n",
    "### Characteristic of Numpy\n",
    "\n",
    "Numpy \n",
    "+ is faster than python normal list and efficient for memory.\n",
    "+ supports process of array without iteration.\n",
    "+ supports function about linear algebra.\n",
    "+ intergrates C, C++, Fortran."
   ]
  },
  {
   "cell_type": "markdown",
   "metadata": {},
   "source": [
    "### import"
   ]
  },
  {
   "cell_type": "code",
   "execution_count": 1,
   "metadata": {
    "ExecuteTime": {
     "end_time": "2018-08-22T21:04:24.555626Z",
     "start_time": "2018-08-22T21:04:24.028378Z"
    }
   },
   "outputs": [],
   "source": [
    "import numpy as np"
   ]
  },
  {
   "cell_type": "markdown",
   "metadata": {},
   "source": [
    "+ Basically, we call numpy library as np. It's alias and sort of rule."
   ]
  },
  {
   "cell_type": "markdown",
   "metadata": {},
   "source": [
    "### Array creation\n",
    "\n",
    "+ Numpy creates array with the `np.array` function.\n",
    "+ Numpy can contain only one data type.(python list can contain many types.)\n",
    "+ Numpy creates array using C language array.\n",
    "\n",
    "<img src=\"./nb_images/numpy_list.png\" alt=\"Drawing\" style=\"width: 500px;\"/>"
   ]
  },
  {
   "cell_type": "code",
   "execution_count": 4,
   "metadata": {
    "ExecuteTime": {
     "end_time": "2018-08-22T21:08:06.185706Z",
     "start_time": "2018-08-22T21:08:06.180250Z"
    }
   },
   "outputs": [
    {
     "name": "stdout",
     "output_type": "stream",
     "text": [
      "[ 1.  4.  5.  8.]\n"
     ]
    },
    {
     "data": {
      "text/plain": [
       "numpy.float32"
      ]
     },
     "execution_count": 4,
     "metadata": {},
     "output_type": "execute_result"
    }
   ],
   "source": [
    "test_array = np.array([1,4,5,8], np.float32)\n",
    "print(test_array)\n",
    "type(test_array[0])"
   ]
  },
  {
   "cell_type": "markdown",
   "metadata": {},
   "source": [
    "Data type is automatically converted."
   ]
  },
  {
   "cell_type": "code",
   "execution_count": 11,
   "metadata": {
    "ExecuteTime": {
     "end_time": "2018-08-22T21:30:31.326825Z",
     "start_time": "2018-08-22T21:30:31.322334Z"
    }
   },
   "outputs": [
    {
     "name": "stdout",
     "output_type": "stream",
     "text": [
      "[ 1.  4.  5.  8.]\n",
      "<class 'numpy.ndarray'>\n",
      "float32\n",
      "(4,)\n"
     ]
    }
   ],
   "source": [
    "test_array = np.array([\"1\", \"4\", 5, 8], np.float32) \n",
    "print(test_array)\n",
    "print(type(test_array)) # array type\n",
    "print(test_array.dtype) # data type\n",
    "print(test_array.shape) # shape"
   ]
  },
  {
   "cell_type": "markdown",
   "metadata": {},
   "source": [
    "What is the shape of (4,) ?\n",
    "- 1-dimension vector containing 4 element. It can be column/row vector.\n",
    "\n",
    "On the other hand, from 2-dimnesion array or, matrix has row/column shape.\n",
    "\n",
    "For your information,\n",
    "- 1d array : vector\n",
    "- 2d array : matrix\n",
    "- greater than 2d array : tensor"
   ]
  },
  {
   "cell_type": "code",
   "execution_count": 15,
   "metadata": {
    "ExecuteTime": {
     "end_time": "2018-08-22T21:38:39.224956Z",
     "start_time": "2018-08-22T21:38:39.219004Z"
    }
   },
   "outputs": [
    {
     "name": "stdout",
     "output_type": "stream",
     "text": [
      "[[ 1.  2.  3.]\n",
      " [ 4.  5.  6.]\n",
      " [ 7.  8.  9.]]\n",
      "(3, 3)\n"
     ]
    }
   ],
   "source": [
    "test_matrix = np.array([[1,2,3],[4,5,6],[7,8,9]], np.float32)\n",
    "print(test_matrix)\n",
    "print(test_matrix.shape)"
   ]
  },
  {
   "cell_type": "markdown",
   "metadata": {},
   "source": [
    "### Array shape - ndim & size\n",
    "\n",
    "+ ndim - the number of dimension\n",
    "+ size - the number of data\n",
    "+ shape - tensor's shape (row/column etc.)"
   ]
  },
  {
   "cell_type": "code",
   "execution_count": 19,
   "metadata": {
    "ExecuteTime": {
     "end_time": "2018-08-22T21:44:53.697875Z",
     "start_time": "2018-08-22T21:44:53.691427Z"
    }
   },
   "outputs": [
    {
     "name": "stdout",
     "output_type": "stream",
     "text": [
      "ndim :  3\n",
      "size :  27\n",
      "shape :  (3, 3, 3)\n"
     ]
    }
   ],
   "source": [
    "tensor = np.array([[[1,2,3],[4,5,6],[7,8,9]],\n",
    "                   [[1,2,3],[4,5,6],[7,8,9]],\n",
    "                   [[1,2,3],[4,5,6],[7,8,9]]])\n",
    "\n",
    "print(\"ndim : \", tensor.ndim)\n",
    "print(\"size : \", tensor.size)\n",
    "print(\"shape : \", tensor.shape)"
   ]
  },
  {
   "cell_type": "code",
   "execution_count": null,
   "metadata": {},
   "outputs": [],
   "source": []
  }
 ],
 "metadata": {
  "anaconda-cloud": {},
  "kernelspec": {
   "display_name": "Python [default]",
   "language": "python",
   "name": "python3"
  },
  "language_info": {
   "codemirror_mode": {
    "name": "ipython",
    "version": 3
   },
   "file_extension": ".py",
   "mimetype": "text/x-python",
   "name": "python",
   "nbconvert_exporter": "python",
   "pygments_lexer": "ipython3",
   "version": "3.5.2"
  },
  "varInspector": {
   "cols": {
    "lenName": 16,
    "lenType": 16,
    "lenVar": 40
   },
   "kernels_config": {
    "python": {
     "delete_cmd_postfix": "",
     "delete_cmd_prefix": "del ",
     "library": "var_list.py",
     "varRefreshCmd": "print(var_dic_list())"
    },
    "r": {
     "delete_cmd_postfix": ") ",
     "delete_cmd_prefix": "rm(",
     "library": "var_list.r",
     "varRefreshCmd": "cat(var_dic_list()) "
    }
   },
   "types_to_exclude": [
    "module",
    "function",
    "builtin_function_or_method",
    "instance",
    "_Feature"
   ],
   "window_display": false
  }
 },
 "nbformat": 4,
 "nbformat_minor": 1
}
