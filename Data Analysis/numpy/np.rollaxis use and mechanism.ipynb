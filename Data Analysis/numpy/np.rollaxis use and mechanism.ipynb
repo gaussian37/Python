{
 "cells": [
  {
   "cell_type": "markdown",
   "metadata": {},
   "source": [
    "# np.rollaxis use and mechanism"
   ]
  },
  {
   "cell_type": "code",
   "execution_count": 1,
   "metadata": {},
   "outputs": [],
   "source": [
    "import numpy as np"
   ]
  },
  {
   "cell_type": "markdown",
   "metadata": {},
   "source": [
    "`np.expand_dims` exapands dimension on the designated axis\n",
    "\n",
    "ex)\n",
    "\n",
    "if x = (224, 224, 3) then <br>\n",
    "&nbsp;&nbsp;np.expand_dims(x, axis = 0) => (1, 224, 224, 3)"
   ]
  },
  {
   "cell_type": "code",
   "execution_count": 3,
   "metadata": {},
   "outputs": [
    {
     "name": "stdout",
     "output_type": "stream",
     "text": [
      "x shape :  (224, 224, 3)\n",
      "expand_dims_x shape :  (1, 224, 224, 3)\n"
     ]
    }
   ],
   "source": [
    "x = np.random.rand(224, 224, 3)\n",
    "expand_dims_x = np.expand_dims(x, axis = 0)\n",
    "print(\"x shape : \", x.shape)\n",
    "print(\"expand_dims_x shape : \", expand_dims_x.shape)"
   ]
  },
  {
   "cell_type": "code",
   "execution_count": 20,
   "metadata": {},
   "outputs": [
    {
     "name": "stdout",
     "output_type": "stream",
     "text": [
      "(3, 1, 224, 224)\n"
     ]
    }
   ],
   "source": [
    "rolled = np.rollaxis(expand_dims_x, 3, start = 0)\n",
    "print(rolled.shape)"
   ]
  },
  {
   "cell_type": "markdown",
   "metadata": {},
   "source": [
    "Let me explain the mechanism of `np.rollaxis`"
   ]
  },
  {
   "cell_type": "code",
   "execution_count": 23,
   "metadata": {},
   "outputs": [],
   "source": [
    "a = np.ones((3,4,5,6))"
   ]
  },
  {
   "cell_type": "markdown",
   "metadata": {},
   "source": [
    "*** All of the value is element of shape.*** \n",
    "\n",
    "second parameter is the selected axis and third is start of new axis.\n",
    "```python\n",
    "np.rollaxis(a, 1, 0)\n",
    "```\n",
    "+ second parameter = 1. so 1-axis = 4 is selected. <br>\n",
    "+ third parameter = 0. so start axis = 0\n",
    "\n",
    "    : 1-axis = 4 comes to 0-axis(third parameter) and left elements are followed as original order\n",
    "\n",
    "    (3, `4`, 5, 6) => (`4`, 3, 5, 6)"
   ]
  },
  {
   "cell_type": "code",
   "execution_count": 74,
   "metadata": {},
   "outputs": [
    {
     "data": {
      "text/plain": [
       "(6, 3, 4, 5)"
      ]
     },
     "execution_count": 74,
     "metadata": {},
     "output_type": "execute_result"
    }
   ],
   "source": [
    "np.rollaxis(a, 3, 0).shape"
   ]
  },
  {
   "cell_type": "code",
   "execution_count": 75,
   "metadata": {},
   "outputs": [
    {
     "data": {
      "text/plain": [
       "(3, 5, 4, 6)"
      ]
     },
     "execution_count": 75,
     "metadata": {},
     "output_type": "execute_result"
    }
   ],
   "source": [
    "np.rollaxis(a, 2, 1).shape"
   ]
  }
 ],
 "metadata": {
  "kernelspec": {
   "display_name": "Python 3",
   "language": "python",
   "name": "python3"
  },
  "language_info": {
   "codemirror_mode": {
    "name": "ipython",
    "version": 3
   },
   "file_extension": ".py",
   "mimetype": "text/x-python",
   "name": "python",
   "nbconvert_exporter": "python",
   "pygments_lexer": "ipython3",
   "version": "3.6.6"
  }
 },
 "nbformat": 4,
 "nbformat_minor": 2
}
