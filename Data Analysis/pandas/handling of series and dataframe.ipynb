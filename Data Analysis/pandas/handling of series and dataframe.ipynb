{
 "cells": [
  {
   "cell_type": "markdown",
   "metadata": {},
   "source": [
    "# handling of series and dataframe"
   ]
  },
  {
   "cell_type": "code",
   "execution_count": 17,
   "metadata": {
    "ExecuteTime": {
     "end_time": "2018-09-04T21:43:15.603943Z",
     "start_time": "2018-09-04T21:43:15.600471Z"
    }
   },
   "outputs": [],
   "source": [
    "from pandas import Series, DataFrame"
   ]
  },
  {
   "cell_type": "markdown",
   "metadata": {},
   "source": [
    "+ Define Series"
   ]
  },
  {
   "cell_type": "code",
   "execution_count": 5,
   "metadata": {
    "ExecuteTime": {
     "end_time": "2018-09-04T21:33:57.965635Z",
     "start_time": "2018-09-04T21:33:57.958692Z"
    }
   },
   "outputs": [
    {
     "name": "stdout",
     "output_type": "stream",
     "text": [
      "0    92600\n",
      "1    92400\n",
      "2    92100\n",
      "3    94300\n",
      "4    92300\n",
      "dtype: int64\n"
     ]
    }
   ],
   "source": [
    "series1 = Series([92600, 92400, 92100, 94300, 92300])\n",
    "print(series1)"
   ]
  },
  {
   "cell_type": "code",
   "execution_count": 6,
   "metadata": {
    "ExecuteTime": {
     "end_time": "2018-09-04T21:33:58.201265Z",
     "start_time": "2018-09-04T21:33:58.191315Z"
    }
   },
   "outputs": [
    {
     "name": "stdout",
     "output_type": "stream",
     "text": [
      "count : \n",
      " 5\n",
      "\n",
      "describe :\n",
      " count        5.000000\n",
      "mean     92740.000000\n",
      "std        890.505474\n",
      "min      92100.000000\n",
      "25%      92300.000000\n",
      "50%      92400.000000\n",
      "75%      92600.000000\n",
      "max      94300.000000\n",
      "dtype: float64\n"
     ]
    }
   ],
   "source": [
    "print(\"count : \\n\", series1.count(), end = \"\\n\\n\")\n",
    "print(\"describe :\\n\", series1.describe())"
   ]
  },
  {
   "cell_type": "markdown",
   "metadata": {},
   "source": [
    "+ Access index"
   ]
  },
  {
   "cell_type": "code",
   "execution_count": 7,
   "metadata": {
    "ExecuteTime": {
     "end_time": "2018-09-04T21:33:58.603988Z",
     "start_time": "2018-09-04T21:33:58.598533Z"
    }
   },
   "outputs": [
    {
     "name": "stdout",
     "output_type": "stream",
     "text": [
      "92100\n"
     ]
    }
   ],
   "source": [
    "print(series1[2])"
   ]
  },
  {
   "cell_type": "code",
   "execution_count": 8,
   "metadata": {
    "ExecuteTime": {
     "end_time": "2018-09-04T21:33:58.795444Z",
     "start_time": "2018-09-04T21:33:58.790980Z"
    }
   },
   "outputs": [
    {
     "name": "stdout",
     "output_type": "stream",
     "text": [
      "2018-02-19    92600\n",
      "2018-02-18    92400\n",
      "2018-02-17    92100\n",
      "2018-02-16    94300\n",
      "2018-02-15    92300\n",
      "dtype: int64\n"
     ]
    }
   ],
   "source": [
    "series2 = Series([92600, 92400, 92100, 94300, 92300], \n",
    "                 index=['2018-02-19','2018-02-18','2018-02-17','2018-02-16','2018-02-15'])\n",
    "print(series2)"
   ]
  },
  {
   "cell_type": "markdown",
   "metadata": {},
   "source": [
    "+ Iterate index"
   ]
  },
  {
   "cell_type": "code",
   "execution_count": 9,
   "metadata": {
    "ExecuteTime": {
     "end_time": "2018-09-04T21:33:59.162484Z",
     "start_time": "2018-09-04T21:33:59.159014Z"
    }
   },
   "outputs": [
    {
     "name": "stdout",
     "output_type": "stream",
     "text": [
      "2018-02-19\n",
      "2018-02-18\n",
      "2018-02-17\n",
      "2018-02-16\n",
      "2018-02-15\n"
     ]
    }
   ],
   "source": [
    "for data in series2.index:\n",
    "    print(data)"
   ]
  },
  {
   "cell_type": "markdown",
   "metadata": {},
   "source": [
    "+ Iterate values"
   ]
  },
  {
   "cell_type": "code",
   "execution_count": 10,
   "metadata": {
    "ExecuteTime": {
     "end_time": "2018-09-04T21:33:59.553830Z",
     "start_time": "2018-09-04T21:33:59.550854Z"
    }
   },
   "outputs": [
    {
     "name": "stdout",
     "output_type": "stream",
     "text": [
      "92600\n",
      "92400\n",
      "92100\n",
      "94300\n",
      "92300\n"
     ]
    }
   ],
   "source": [
    "for val in series2.values:\n",
    "    print(val)"
   ]
  },
  {
   "cell_type": "code",
   "execution_count": 11,
   "metadata": {
    "ExecuteTime": {
     "end_time": "2018-09-04T21:33:59.748785Z",
     "start_time": "2018-09-04T21:33:59.743303Z"
    }
   },
   "outputs": [
    {
     "name": "stdout",
     "output_type": "stream",
     "text": [
      "n1    10\n",
      "n2    20\n",
      "n3    30\n",
      "dtype: int64\n",
      "n2    10\n",
      "n1    30\n",
      "n3    20\n",
      "dtype: int64\n"
     ]
    }
   ],
   "source": [
    "series_g1 = Series([10, 20, 30], index=['n1', 'n2', 'n3'])\n",
    "series_g2 = Series([10, 30, 20], index=['n2', 'n1', 'n3'])\n",
    "print(series_g1)\n",
    "print(series_g2)"
   ]
  },
  {
   "cell_type": "markdown",
   "metadata": {
    "ExecuteTime": {
     "end_time": "2018-09-04T21:41:56.412457Z",
     "start_time": "2018-09-04T21:41:56.408491Z"
    }
   },
   "source": [
    "+ simple math with series"
   ]
  },
  {
   "cell_type": "code",
   "execution_count": 12,
   "metadata": {
    "ExecuteTime": {
     "end_time": "2018-09-04T21:34:00.216983Z",
     "start_time": "2018-09-04T21:34:00.207063Z"
    }
   },
   "outputs": [
    {
     "name": "stdout",
     "output_type": "stream",
     "text": [
      "n1    40\n",
      "n2    30\n",
      "n3    50\n",
      "dtype: int64\n",
      "\n",
      "n1    300\n",
      "n2    200\n",
      "n3    600\n",
      "dtype: int64\n",
      "\n",
      "n1    450.0\n",
      "n2    300.0\n",
      "n3    900.0\n",
      "dtype: float64\n",
      "\n"
     ]
    }
   ],
   "source": [
    "add = series_g1 + series_g2\n",
    "mul = series_g1 * series_g2\n",
    "cul = (series_g1 * series_g2) * (0.5 + 1)\n",
    "print(add); print()\n",
    "print(mul); print()\n",
    "print(cul); print()"
   ]
  },
  {
   "cell_type": "markdown",
   "metadata": {},
   "source": [
    " "
   ]
  },
  {
   "cell_type": "code",
   "execution_count": 15,
   "metadata": {
    "ExecuteTime": {
     "end_time": "2018-09-04T21:42:27.356956Z",
     "start_time": "2018-09-04T21:42:27.351994Z"
    }
   },
   "outputs": [
    {
     "name": "stdout",
     "output_type": "stream",
     "text": [
      "<class 'dict'>\n",
      "{'Total2': [65000, 57000, 53000, 48000], 'Total1': [55000, 47000, 49000, 42000], 'City': ['서울', '대구', '부산', '대전']}\n"
     ]
    }
   ],
   "source": [
    "r_data = {'City': ['서울','대구','부산','대전'], 'Total1':[55000, 47000, 49000, 42000], 'Total2': [65000, 57000, 53000, 48000]}\n",
    "i_data = ['one','two','three','four']\n",
    "print(type(r_data))\n",
    "print(r_data)"
   ]
  },
  {
   "cell_type": "code",
   "execution_count": 20,
   "metadata": {
    "ExecuteTime": {
     "end_time": "2018-09-04T21:44:57.104552Z",
     "start_time": "2018-09-04T21:44:57.088680Z"
    }
   },
   "outputs": [
    {
     "name": "stdout",
     "output_type": "stream",
     "text": [
      "<class 'pandas.core.frame.DataFrame'>\n",
      "\n",
      "      City  Total1  Total2\n",
      "one     서울   55000   65000\n",
      "two     대구   47000   57000\n",
      "three   부산   49000   53000\n",
      "four    대전   42000   48000\n",
      "\n",
      "Index(['one', 'two', 'three', 'four'], dtype='object')\n",
      "\n",
      "[['서울' 55000 65000]\n",
      " ['대구' 47000 57000]\n",
      " ['부산' 49000 53000]\n",
      " ['대전' 42000 48000]]\n",
      "\n",
      "one      서울\n",
      "two      대구\n",
      "three    부산\n",
      "four     대전\n",
      "Name: City, dtype: object\n",
      "\n",
      "City         서울\n",
      "Total1    55000\n",
      "Total2    65000\n",
      "Name: one, dtype: object\n",
      "\n",
      "             Total1        Total2\n",
      "count      4.000000      4.000000\n",
      "mean   48250.000000  55750.000000\n",
      "std     5377.421935   7182.153809\n",
      "min    42000.000000  48000.000000\n",
      "25%    45750.000000  51750.000000\n",
      "50%    48000.000000  55000.000000\n",
      "75%    50500.000000  59000.000000\n",
      "max    55000.000000  65000.000000\n"
     ]
    }
   ],
   "source": [
    "# define dataframe\n",
    "d_frame = DataFrame(r_data, index = i_data)\n",
    "#d_frame = DataFrame(r_data, columns = ['Total1', 'Total2', 'City'])\n",
    "\n",
    "print(type(d_frame)); print()\n",
    "print(d_frame); print()\n",
    "print(d_frame.index); print()\n",
    "print(d_frame.values); print()\n",
    "print(d_frame['City']); print() #columns\n",
    "print(d_frame.ix['one']); print()   #rows\n",
    "print(d_frame.describe())"
   ]
  },
  {
   "cell_type": "markdown",
   "metadata": {
    "ExecuteTime": {
     "end_time": "2018-09-04T21:45:38.524585Z",
     "start_time": "2018-09-04T21:45:38.521113Z"
    }
   },
   "source": [
    "+ iterate the values"
   ]
  },
  {
   "cell_type": "code",
   "execution_count": 23,
   "metadata": {
    "ExecuteTime": {
     "end_time": "2018-09-04T21:45:52.828779Z",
     "start_time": "2018-09-04T21:45:52.824289Z"
    }
   },
   "outputs": [
    {
     "name": "stdout",
     "output_type": "stream",
     "text": [
      "0 서울\n",
      "1 55000\n",
      "2 65000\n",
      "0 대구\n",
      "1 47000\n",
      "2 57000\n",
      "0 부산\n",
      "1 49000\n",
      "2 53000\n",
      "0 대전\n",
      "1 42000\n",
      "2 48000\n"
     ]
    }
   ],
   "source": [
    "for e in d_frame.values:\n",
    "    for i, z in enumerate(e):        \n",
    "        print(i,z)"
   ]
  }
 ],
 "metadata": {
  "anaconda-cloud": {},
  "kernelspec": {
   "display_name": "Python [default]",
   "language": "python",
   "name": "python3"
  },
  "language_info": {
   "codemirror_mode": {
    "name": "ipython",
    "version": 3
   },
   "file_extension": ".py",
   "mimetype": "text/x-python",
   "name": "python",
   "nbconvert_exporter": "python",
   "pygments_lexer": "ipython3",
   "version": "3.5.2"
  },
  "varInspector": {
   "cols": {
    "lenName": 16,
    "lenType": 16,
    "lenVar": 40
   },
   "kernels_config": {
    "python": {
     "delete_cmd_postfix": "",
     "delete_cmd_prefix": "del ",
     "library": "var_list.py",
     "varRefreshCmd": "print(var_dic_list())"
    },
    "r": {
     "delete_cmd_postfix": ") ",
     "delete_cmd_prefix": "rm(",
     "library": "var_list.r",
     "varRefreshCmd": "cat(var_dic_list()) "
    }
   },
   "types_to_exclude": [
    "module",
    "function",
    "builtin_function_or_method",
    "instance",
    "_Feature"
   ],
   "window_display": false
  }
 },
 "nbformat": 4,
 "nbformat_minor": 1
}
