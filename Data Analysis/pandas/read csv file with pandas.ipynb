{
 "cells": [
  {
   "cell_type": "markdown",
   "metadata": {},
   "source": [
    "# read csv file with pandas"
   ]
  },
  {
   "cell_type": "code",
   "execution_count": 1,
   "metadata": {
    "ExecuteTime": {
     "end_time": "2018-09-03T19:49:26.407624Z",
     "start_time": "2018-09-03T19:49:24.201916Z"
    }
   },
   "outputs": [
    {
     "name": "stdout",
     "output_type": "stream",
     "text": [
      "   Month   \"1958\"   \"1959\"   \"1960\"\n",
      "0    JAN      340      360      417\n",
      "1    FEB      318      342      391\n",
      "2    MAR      362      406      419\n",
      "3    APR      348      396      461\n",
      "4    MAY      363      420      472\n",
      "5    JUN      435      472      535\n",
      "6    JUL      491      548      622\n",
      "7    AUG      505      559      606\n",
      "8    SEP      404      463      508\n",
      "9    OCT      359      407      461\n",
      "10   NOV      310      362      390\n",
      "11   DEC      337      405      432\n"
     ]
    }
   ],
   "source": [
    "import pandas as pd\n",
    "import csv\n",
    "\n",
    "# Basic read of csv file\n",
    "filepath = './data/csv_s1.csv'\n",
    "df = pd.read_csv(filepath)\n",
    "print(df)"
   ]
  },
  {
   "cell_type": "markdown",
   "metadata": {},
   "source": [
    "+ skip a row"
   ]
  },
  {
   "cell_type": "code",
   "execution_count": 2,
   "metadata": {
    "ExecuteTime": {
     "end_time": "2018-09-03T19:49:27.151625Z",
     "start_time": "2018-09-03T19:49:27.145177Z"
    }
   },
   "outputs": [
    {
     "name": "stdout",
     "output_type": "stream",
     "text": [
      "    JAN    340    360    417\n",
      "0   FEB    318    342    391\n",
      "1   MAR    362    406    419\n",
      "2   APR    348    396    461\n",
      "3   MAY    363    420    472\n",
      "4   JUN    435    472    535\n",
      "5   JUL    491    548    622\n",
      "6   AUG    505    559    606\n",
      "7   SEP    404    463    508\n",
      "8   OCT    359    407    461\n",
      "9   NOV    310    362    390\n",
      "10  DEC    337    405    432\n"
     ]
    }
   ],
   "source": [
    "df = pd.read_csv(filepath, skiprows=[0])\n",
    "print(df)"
   ]
  },
  {
   "cell_type": "markdown",
   "metadata": {},
   "source": [
    "+ Without header"
   ]
  },
  {
   "cell_type": "code",
   "execution_count": 3,
   "metadata": {
    "ExecuteTime": {
     "end_time": "2018-09-03T19:49:27.558867Z",
     "start_time": "2018-09-03T19:49:27.552887Z"
    }
   },
   "outputs": [
    {
     "name": "stdout",
     "output_type": "stream",
     "text": [
      "      0    1    2    3\n",
      "0   JAN  340  360  417\n",
      "1   FEB  318  342  391\n",
      "2   MAR  362  406  419\n",
      "3   APR  348  396  461\n",
      "4   MAY  363  420  472\n",
      "5   JUN  435  472  535\n",
      "6   JUL  491  548  622\n",
      "7   AUG  505  559  606\n",
      "8   SEP  404  463  508\n",
      "9   OCT  359  407  461\n",
      "10  NOV  310  362  390\n",
      "11  DEC  337  405  432\n"
     ]
    }
   ],
   "source": [
    "df = pd.read_csv(filepath, skiprows=[0], header= None)\n",
    "print(df)"
   ]
  },
  {
   "cell_type": "markdown",
   "metadata": {},
   "source": [
    "+ Define header(added column names)"
   ]
  },
  {
   "cell_type": "code",
   "execution_count": 4,
   "metadata": {
    "ExecuteTime": {
     "end_time": "2018-09-03T19:49:27.987879Z",
     "start_time": "2018-09-03T19:49:27.978951Z"
    }
   },
   "outputs": [
    {
     "name": "stdout",
     "output_type": "stream",
     "text": [
      "   Month  1958  1959  1960\n",
      "0    JAN   340   360   417\n",
      "1    FEB   318   342   391\n",
      "2    MAR   362   406   419\n",
      "3    APR   348   396   461\n",
      "4    MAY   363   420   472\n",
      "5    JUN   435   472   535\n",
      "6    JUL   491   548   622\n",
      "7    AUG   505   559   606\n",
      "8    SEP   404   463   508\n",
      "9    OCT   359   407   461\n",
      "10   NOV   310   362   390\n",
      "11   DEC   337   405   432\n"
     ]
    }
   ],
   "source": [
    "df = pd.read_csv(filepath, skiprows=[0], header= None, names=[\"Month\",1958,1959,1960])\n",
    "print(df)"
   ]
  },
  {
   "cell_type": "markdown",
   "metadata": {},
   "source": [
    "+ Define index column\n",
    "    - If a column has standard, it's more useful than just using column 0, 1, 2, ..."
   ]
  },
  {
   "cell_type": "code",
   "execution_count": 5,
   "metadata": {
    "ExecuteTime": {
     "end_time": "2018-09-03T19:49:28.953092Z",
     "start_time": "2018-09-03T19:49:28.945157Z"
    }
   },
   "outputs": [
    {
     "name": "stdout",
     "output_type": "stream",
     "text": [
      "       1958  1959  1960\n",
      "Month                  \n",
      "JAN     340   360   417\n",
      "FEB     318   342   391\n",
      "MAR     362   406   419\n",
      "APR     348   396   461\n",
      "MAY     363   420   472\n",
      "JUN     435   472   535\n",
      "JUL     491   548   622\n",
      "AUG     505   559   606\n",
      "SEP     404   463   508\n",
      "OCT     359   407   461\n",
      "NOV     310   362   390\n",
      "DEC     337   405   432\n"
     ]
    }
   ],
   "source": [
    "df = pd.read_csv(filepath, skiprows=[0], header= None, names=[\"Month\",1958,1959,1960],\n",
    "                 index_col = [0])\n",
    "print(df)"
   ]
  },
  {
   "cell_type": "markdown",
   "metadata": {
    "ExecuteTime": {
     "end_time": "2018-09-02T22:42:09.168608Z",
     "start_time": "2018-09-02T22:42:09.164622Z"
    }
   },
   "source": [
    "+ Set a values as NaN\n",
    "\n",
    "Below example, all \"JAN\" turn into NaN"
   ]
  },
  {
   "cell_type": "code",
   "execution_count": 6,
   "metadata": {
    "ExecuteTime": {
     "end_time": "2018-09-03T19:49:30.331970Z",
     "start_time": "2018-09-03T19:49:30.321057Z"
    }
   },
   "outputs": [
    {
     "name": "stdout",
     "output_type": "stream",
     "text": [
      "   Month  1958  1959  1960\n",
      "0    NaN   340   360   417\n",
      "1    FEB   318   342   391\n",
      "2    MAR   362   406   419\n",
      "3    APR   348   396   461\n",
      "4    MAY   363   420   472\n",
      "5    JUN   435   472   535\n",
      "6    JUL   491   548   622\n",
      "7    AUG   505   559   606\n",
      "8    SEP   404   463   508\n",
      "9    OCT   359   407   461\n",
      "10   NOV   310   362   390\n",
      "11   DEC   337   405   432\n",
      "\n",
      "    Month   1958   1959   1960\n",
      "0    True  False  False  False\n",
      "1   False  False  False  False\n",
      "2   False  False  False  False\n",
      "3   False  False  False  False\n",
      "4   False  False  False  False\n",
      "5   False  False  False  False\n",
      "6   False  False  False  False\n",
      "7   False  False  False  False\n",
      "8   False  False  False  False\n",
      "9   False  False  False  False\n",
      "10  False  False  False  False\n",
      "11  False  False  False  False\n"
     ]
    }
   ],
   "source": [
    "df = pd.read_csv(filepath, skiprows=[0], header= None, names=[\"Month\",1958,1959,1960],\n",
    "                 na_values = [\"JAN\"])\n",
    "print(df)\n",
    "print()\n",
    "print(pd.isnull(df))"
   ]
  },
  {
   "cell_type": "markdown",
   "metadata": {},
   "source": [
    "+ Organize the function"
   ]
  },
  {
   "cell_type": "code",
   "execution_count": 14,
   "metadata": {
    "ExecuteTime": {
     "end_time": "2018-09-03T19:50:54.094312Z",
     "start_time": "2018-09-03T19:50:54.080921Z"
    }
   },
   "outputs": [
    {
     "name": "stdout",
     "output_type": "stream",
     "text": [
      "   Month  1958  1959  1960\n",
      "0    JAN   340   360   417\n",
      "1    FEB   318   342   391\n",
      "2    MAR   362   406   419\n",
      "3    APR   348   396   461\n",
      "4    MAY   363   420   472\n",
      "5    JUN   435   472   535\n",
      "6    JUL   491   548   622\n",
      "7    AUG   505   559   606\n",
      "8    SEP   404   463   508\n",
      "9    OCT   359   407   461\n",
      "10   NOV   310   362   390\n",
      "11   DEC   337   405   432\n",
      "\n",
      "RangeIndex(start=0, stop=12, step=1)\n",
      "\n",
      "   Month  1958  1959  1960\n",
      "1    JAN   340   360   417\n",
      "2    FEB   318   342   391\n",
      "3    MAR   362   406   419\n",
      "4    APR   348   396   461\n",
      "5    MAY   363   420   472\n",
      "6    JUN   435   472   535\n",
      "7    JUL   491   548   622\n",
      "8    AUG   505   559   606\n",
      "9    SEP   404   463   508\n",
      "10   OCT   359   407   461\n",
      "11   NOV   310   362   390\n",
      "12   DEC   337   405   432\n",
      "\n",
      "Int64Index([1, 2, 3, 4, 5, 6, 7, 8, 9, 10, 11, 12], dtype='int64')\n",
      "\n",
      "[ 0  1  2  3  4  5  6  7  8  9 10 11]\n",
      "\n",
      "[0, 1, 2, 3, 4, 5, 6, 7, 8, 9, 10, 11]\n"
     ]
    }
   ],
   "source": [
    "df = pd.read_csv(filepath, skiprows=[0], header= None, names=[\"Month\",1958,1959,1960])\n",
    "print(df); print()\n",
    "print(df.index); print()\n",
    "print(df.rename(index=lambda x : x+1)); print()\n",
    "print(df.rename(index=lambda x : x+1).index); print()\n",
    "print(df.index.values); print()\n",
    "print(df.index.values.tolist())"
   ]
  },
  {
   "cell_type": "markdown",
   "metadata": {},
   "source": [
    "+ read new csv file"
   ]
  },
  {
   "cell_type": "code",
   "execution_count": 27,
   "metadata": {
    "ExecuteTime": {
     "end_time": "2018-09-03T19:53:59.420901Z",
     "start_time": "2018-09-03T19:53:59.409493Z"
    }
   },
   "outputs": [
    {
     "data": {
      "text/html": [
       "<div>\n",
       "<table border=\"1\" class=\"dataframe\">\n",
       "  <thead>\n",
       "    <tr style=\"text-align: right;\">\n",
       "      <th></th>\n",
       "      <th>First name</th>\n",
       "      <th>Test1</th>\n",
       "      <th>Test2</th>\n",
       "      <th>Test3</th>\n",
       "      <th>Final</th>\n",
       "      <th>Grade</th>\n",
       "    </tr>\n",
       "  </thead>\n",
       "  <tbody>\n",
       "    <tr>\n",
       "      <th>0</th>\n",
       "      <td>Aloysius</td>\n",
       "      <td>40.0</td>\n",
       "      <td>90.0</td>\n",
       "      <td>100.0</td>\n",
       "      <td>83.0</td>\n",
       "      <td>\"D-\"</td>\n",
       "    </tr>\n",
       "    <tr>\n",
       "      <th>1</th>\n",
       "      <td>University</td>\n",
       "      <td>41.0</td>\n",
       "      <td>97.0</td>\n",
       "      <td>96.0</td>\n",
       "      <td>48.0</td>\n",
       "      <td>\"D+\"</td>\n",
       "    </tr>\n",
       "    <tr>\n",
       "      <th>2</th>\n",
       "      <td>Gramma</td>\n",
       "      <td>41.0</td>\n",
       "      <td>80.0</td>\n",
       "      <td>60.0</td>\n",
       "      <td>44.0</td>\n",
       "      <td>\"C\"</td>\n",
       "    </tr>\n",
       "    <tr>\n",
       "      <th>3</th>\n",
       "      <td>Electric</td>\n",
       "      <td>42.0</td>\n",
       "      <td>23.0</td>\n",
       "      <td>36.0</td>\n",
       "      <td>47.0</td>\n",
       "      <td>\"B-\"</td>\n",
       "    </tr>\n",
       "    <tr>\n",
       "      <th>4</th>\n",
       "      <td>Fred</td>\n",
       "      <td>43.0</td>\n",
       "      <td>78.0</td>\n",
       "      <td>88.0</td>\n",
       "      <td>45.0</td>\n",
       "      <td>\"A-\"</td>\n",
       "    </tr>\n",
       "  </tbody>\n",
       "</table>\n",
       "</div>"
      ],
      "text/plain": [
       "   First name  Test1  Test2  Test3  Final    Grade\n",
       "0    Aloysius   40.0   90.0  100.0   83.0     \"D-\"\n",
       "1  University   41.0   97.0   96.0   48.0     \"D+\"\n",
       "2      Gramma   41.0   80.0   60.0   44.0      \"C\"\n",
       "3    Electric   42.0   23.0   36.0   47.0     \"B-\"\n",
       "4        Fred   43.0   78.0   88.0   45.0     \"A-\""
      ]
     },
     "execution_count": 27,
     "metadata": {},
     "output_type": "execute_result"
    }
   ],
   "source": [
    "df2 = pd.read_csv('./data/csv_s2.csv',sep=';', skiprows=[0], header=None,\n",
    "                  names=[\"First name\", \"Test1\", \"Test2\", \"Test3\", \"Final\", \"Grade\"])\n",
    "df2.head()"
   ]
  },
  {
   "cell_type": "markdown",
   "metadata": {},
   "source": [
    "+ replace unnecessary characters"
   ]
  },
  {
   "cell_type": "code",
   "execution_count": 28,
   "metadata": {
    "ExecuteTime": {
     "end_time": "2018-09-03T19:53:59.970964Z",
     "start_time": "2018-09-03T19:53:59.785461Z"
    }
   },
   "outputs": [
    {
     "data": {
      "text/html": [
       "<div>\n",
       "<table border=\"1\" class=\"dataframe\">\n",
       "  <thead>\n",
       "    <tr style=\"text-align: right;\">\n",
       "      <th></th>\n",
       "      <th>First name</th>\n",
       "      <th>Test1</th>\n",
       "      <th>Test2</th>\n",
       "      <th>Test3</th>\n",
       "      <th>Final</th>\n",
       "      <th>Grade</th>\n",
       "    </tr>\n",
       "  </thead>\n",
       "  <tbody>\n",
       "    <tr>\n",
       "      <th>0</th>\n",
       "      <td>Aloysius</td>\n",
       "      <td>40.0</td>\n",
       "      <td>90.0</td>\n",
       "      <td>100.0</td>\n",
       "      <td>83.0</td>\n",
       "      <td>D-</td>\n",
       "    </tr>\n",
       "    <tr>\n",
       "      <th>1</th>\n",
       "      <td>University</td>\n",
       "      <td>41.0</td>\n",
       "      <td>97.0</td>\n",
       "      <td>96.0</td>\n",
       "      <td>48.0</td>\n",
       "      <td>D+</td>\n",
       "    </tr>\n",
       "    <tr>\n",
       "      <th>2</th>\n",
       "      <td>Gramma</td>\n",
       "      <td>41.0</td>\n",
       "      <td>80.0</td>\n",
       "      <td>60.0</td>\n",
       "      <td>44.0</td>\n",
       "      <td>C</td>\n",
       "    </tr>\n",
       "    <tr>\n",
       "      <th>3</th>\n",
       "      <td>Electric</td>\n",
       "      <td>42.0</td>\n",
       "      <td>23.0</td>\n",
       "      <td>36.0</td>\n",
       "      <td>47.0</td>\n",
       "      <td>B-</td>\n",
       "    </tr>\n",
       "    <tr>\n",
       "      <th>4</th>\n",
       "      <td>Fred</td>\n",
       "      <td>43.0</td>\n",
       "      <td>78.0</td>\n",
       "      <td>88.0</td>\n",
       "      <td>45.0</td>\n",
       "      <td>A-</td>\n",
       "    </tr>\n",
       "  </tbody>\n",
       "</table>\n",
       "</div>"
      ],
      "text/plain": [
       "   First name  Test1  Test2  Test3  Final  Grade\n",
       "0    Aloysius   40.0   90.0  100.0   83.0     D-\n",
       "1  University   41.0   97.0   96.0   48.0     D+\n",
       "2      Gramma   41.0   80.0   60.0   44.0      C\n",
       "3    Electric   42.0   23.0   36.0   47.0     B-\n",
       "4        Fred   43.0   78.0   88.0   45.0     A-"
      ]
     },
     "execution_count": 28,
     "metadata": {},
     "output_type": "execute_result"
    }
   ],
   "source": [
    "df2['Grade'] = df2['Grade'].str.replace('\"', '')\n",
    "df2.head()"
   ]
  },
  {
   "cell_type": "markdown",
   "metadata": {
    "ExecuteTime": {
     "end_time": "2018-09-03T19:55:24.051738Z",
     "start_time": "2018-09-03T19:55:24.048764Z"
    }
   },
   "source": [
    "+ added average of Tests and Final"
   ]
  },
  {
   "cell_type": "code",
   "execution_count": 29,
   "metadata": {
    "ExecuteTime": {
     "end_time": "2018-09-03T19:54:00.731826Z",
     "start_time": "2018-09-03T19:54:00.720419Z"
    }
   },
   "outputs": [
    {
     "data": {
      "text/html": [
       "<div>\n",
       "<table border=\"1\" class=\"dataframe\">\n",
       "  <thead>\n",
       "    <tr style=\"text-align: right;\">\n",
       "      <th></th>\n",
       "      <th>First name</th>\n",
       "      <th>Test1</th>\n",
       "      <th>Test2</th>\n",
       "      <th>Test3</th>\n",
       "      <th>Final</th>\n",
       "      <th>Grade</th>\n",
       "      <th>Avg</th>\n",
       "    </tr>\n",
       "  </thead>\n",
       "  <tbody>\n",
       "    <tr>\n",
       "      <th>0</th>\n",
       "      <td>Aloysius</td>\n",
       "      <td>40.0</td>\n",
       "      <td>90.0</td>\n",
       "      <td>100.0</td>\n",
       "      <td>83.0</td>\n",
       "      <td>D-</td>\n",
       "      <td>78.25</td>\n",
       "    </tr>\n",
       "    <tr>\n",
       "      <th>1</th>\n",
       "      <td>University</td>\n",
       "      <td>41.0</td>\n",
       "      <td>97.0</td>\n",
       "      <td>96.0</td>\n",
       "      <td>48.0</td>\n",
       "      <td>D+</td>\n",
       "      <td>70.50</td>\n",
       "    </tr>\n",
       "    <tr>\n",
       "      <th>2</th>\n",
       "      <td>Gramma</td>\n",
       "      <td>41.0</td>\n",
       "      <td>80.0</td>\n",
       "      <td>60.0</td>\n",
       "      <td>44.0</td>\n",
       "      <td>C</td>\n",
       "      <td>56.25</td>\n",
       "    </tr>\n",
       "    <tr>\n",
       "      <th>3</th>\n",
       "      <td>Electric</td>\n",
       "      <td>42.0</td>\n",
       "      <td>23.0</td>\n",
       "      <td>36.0</td>\n",
       "      <td>47.0</td>\n",
       "      <td>B-</td>\n",
       "      <td>37.00</td>\n",
       "    </tr>\n",
       "    <tr>\n",
       "      <th>4</th>\n",
       "      <td>Fred</td>\n",
       "      <td>43.0</td>\n",
       "      <td>78.0</td>\n",
       "      <td>88.0</td>\n",
       "      <td>45.0</td>\n",
       "      <td>A-</td>\n",
       "      <td>63.50</td>\n",
       "    </tr>\n",
       "  </tbody>\n",
       "</table>\n",
       "</div>"
      ],
      "text/plain": [
       "   First name  Test1  Test2  Test3  Final  Grade    Avg\n",
       "0    Aloysius   40.0   90.0  100.0   83.0     D-  78.25\n",
       "1  University   41.0   97.0   96.0   48.0     D+  70.50\n",
       "2      Gramma   41.0   80.0   60.0   44.0      C  56.25\n",
       "3    Electric   42.0   23.0   36.0   47.0     B-  37.00\n",
       "4        Fred   43.0   78.0   88.0   45.0     A-  63.50"
      ]
     },
     "execution_count": 29,
     "metadata": {},
     "output_type": "execute_result"
    }
   ],
   "source": [
    "df2['Avg'] = df2[['Test1','Test2','Test3','Final']].mean(axis=1)\n",
    "df2.head()"
   ]
  },
  {
   "cell_type": "markdown",
   "metadata": {},
   "source": [
    "+ added sum of Tests and final"
   ]
  },
  {
   "cell_type": "code",
   "execution_count": 31,
   "metadata": {
    "ExecuteTime": {
     "end_time": "2018-09-03T19:54:21.909004Z",
     "start_time": "2018-09-03T19:54:21.897100Z"
    }
   },
   "outputs": [
    {
     "data": {
      "text/html": [
       "<div>\n",
       "<table border=\"1\" class=\"dataframe\">\n",
       "  <thead>\n",
       "    <tr style=\"text-align: right;\">\n",
       "      <th></th>\n",
       "      <th>First name</th>\n",
       "      <th>Test1</th>\n",
       "      <th>Test2</th>\n",
       "      <th>Test3</th>\n",
       "      <th>Final</th>\n",
       "      <th>Grade</th>\n",
       "      <th>Avg</th>\n",
       "      <th>Sum</th>\n",
       "    </tr>\n",
       "  </thead>\n",
       "  <tbody>\n",
       "    <tr>\n",
       "      <th>0</th>\n",
       "      <td>Aloysius</td>\n",
       "      <td>40.0</td>\n",
       "      <td>90.0</td>\n",
       "      <td>100.0</td>\n",
       "      <td>83.0</td>\n",
       "      <td>D-</td>\n",
       "      <td>78.25</td>\n",
       "      <td>313.0</td>\n",
       "    </tr>\n",
       "    <tr>\n",
       "      <th>1</th>\n",
       "      <td>University</td>\n",
       "      <td>41.0</td>\n",
       "      <td>97.0</td>\n",
       "      <td>96.0</td>\n",
       "      <td>48.0</td>\n",
       "      <td>D+</td>\n",
       "      <td>70.50</td>\n",
       "      <td>282.0</td>\n",
       "    </tr>\n",
       "    <tr>\n",
       "      <th>2</th>\n",
       "      <td>Gramma</td>\n",
       "      <td>41.0</td>\n",
       "      <td>80.0</td>\n",
       "      <td>60.0</td>\n",
       "      <td>44.0</td>\n",
       "      <td>C</td>\n",
       "      <td>56.25</td>\n",
       "      <td>225.0</td>\n",
       "    </tr>\n",
       "    <tr>\n",
       "      <th>3</th>\n",
       "      <td>Electric</td>\n",
       "      <td>42.0</td>\n",
       "      <td>23.0</td>\n",
       "      <td>36.0</td>\n",
       "      <td>47.0</td>\n",
       "      <td>B-</td>\n",
       "      <td>37.00</td>\n",
       "      <td>148.0</td>\n",
       "    </tr>\n",
       "    <tr>\n",
       "      <th>4</th>\n",
       "      <td>Fred</td>\n",
       "      <td>43.0</td>\n",
       "      <td>78.0</td>\n",
       "      <td>88.0</td>\n",
       "      <td>45.0</td>\n",
       "      <td>A-</td>\n",
       "      <td>63.50</td>\n",
       "      <td>254.0</td>\n",
       "    </tr>\n",
       "  </tbody>\n",
       "</table>\n",
       "</div>"
      ],
      "text/plain": [
       "   First name  Test1  Test2  Test3  Final  Grade    Avg    Sum\n",
       "0    Aloysius   40.0   90.0  100.0   83.0     D-  78.25  313.0\n",
       "1  University   41.0   97.0   96.0   48.0     D+  70.50  282.0\n",
       "2      Gramma   41.0   80.0   60.0   44.0      C  56.25  225.0\n",
       "3    Electric   42.0   23.0   36.0   47.0     B-  37.00  148.0\n",
       "4        Fred   43.0   78.0   88.0   45.0     A-  63.50  254.0"
      ]
     },
     "execution_count": 31,
     "metadata": {},
     "output_type": "execute_result"
    }
   ],
   "source": [
    "df2['Sum'] = df2[['Test1','Test2','Test3','Final']].sum(axis=1)\n",
    "df2.head()"
   ]
  }
 ],
 "metadata": {
  "anaconda-cloud": {},
  "kernelspec": {
   "display_name": "Python [default]",
   "language": "python",
   "name": "python3"
  },
  "language_info": {
   "codemirror_mode": {
    "name": "ipython",
    "version": 3
   },
   "file_extension": ".py",
   "mimetype": "text/x-python",
   "name": "python",
   "nbconvert_exporter": "python",
   "pygments_lexer": "ipython3",
   "version": "3.5.2"
  },
  "varInspector": {
   "cols": {
    "lenName": 16,
    "lenType": 16,
    "lenVar": 40
   },
   "kernels_config": {
    "python": {
     "delete_cmd_postfix": "",
     "delete_cmd_prefix": "del ",
     "library": "var_list.py",
     "varRefreshCmd": "print(var_dic_list())"
    },
    "r": {
     "delete_cmd_postfix": ") ",
     "delete_cmd_prefix": "rm(",
     "library": "var_list.r",
     "varRefreshCmd": "cat(var_dic_list()) "
    }
   },
   "types_to_exclude": [
    "module",
    "function",
    "builtin_function_or_method",
    "instance",
    "_Feature"
   ],
   "window_display": false
  }
 },
 "nbformat": 4,
 "nbformat_minor": 1
}
