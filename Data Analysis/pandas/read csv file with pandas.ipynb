{
 "cells": [
  {
   "cell_type": "markdown",
   "metadata": {},
   "source": [
    "# read csv file with pandas"
   ]
  },
  {
   "cell_type": "code",
   "execution_count": 3,
   "metadata": {
    "ExecuteTime": {
     "end_time": "2018-09-02T22:07:45.087334Z",
     "start_time": "2018-09-02T22:07:45.079356Z"
    }
   },
   "outputs": [
    {
     "name": "stdout",
     "output_type": "stream",
     "text": [
      "   Month   \"1958\"   \"1959\"   \"1960\"\n",
      "0    JAN      340      360      417\n",
      "1    FEB      318      342      391\n",
      "2    MAR      362      406      419\n",
      "3    APR      348      396      461\n",
      "4    MAY      363      420      472\n",
      "5    JUN      435      472      535\n",
      "6    JUL      491      548      622\n",
      "7    AUG      505      559      606\n",
      "8    SEP      404      463      508\n",
      "9    OCT      359      407      461\n",
      "10   NOV      310      362      390\n",
      "11   DEC      337      405      432\n"
     ]
    }
   ],
   "source": [
    "import pandas as pd\n",
    "import csv\n",
    "\n",
    "# Basic read of csv file\n",
    "filepath = './data/csv_s1.csv'\n",
    "df = pd.read_csv(filepath)\n",
    "print(df)"
   ]
  },
  {
   "cell_type": "markdown",
   "metadata": {},
   "source": [
    "+ skip a row"
   ]
  },
  {
   "cell_type": "code",
   "execution_count": 7,
   "metadata": {
    "ExecuteTime": {
     "end_time": "2018-09-02T22:23:17.916253Z",
     "start_time": "2018-09-02T22:23:17.909271Z"
    }
   },
   "outputs": [
    {
     "name": "stdout",
     "output_type": "stream",
     "text": [
      "    JAN    340    360    417\n",
      "0   FEB    318    342    391\n",
      "1   MAR    362    406    419\n",
      "2   APR    348    396    461\n",
      "3   MAY    363    420    472\n",
      "4   JUN    435    472    535\n",
      "5   JUL    491    548    622\n",
      "6   AUG    505    559    606\n",
      "7   SEP    404    463    508\n",
      "8   OCT    359    407    461\n",
      "9   NOV    310    362    390\n",
      "10  DEC    337    405    432\n"
     ]
    }
   ],
   "source": [
    "df = pd.read_csv(filepath, skiprows=[0])\n",
    "print(df)"
   ]
  },
  {
   "cell_type": "markdown",
   "metadata": {},
   "source": [
    "+ Without header"
   ]
  },
  {
   "cell_type": "code",
   "execution_count": 5,
   "metadata": {
    "ExecuteTime": {
     "end_time": "2018-09-02T22:08:38.139387Z",
     "start_time": "2018-09-02T22:08:38.128417Z"
    }
   },
   "outputs": [
    {
     "name": "stdout",
     "output_type": "stream",
     "text": [
      "      0    1    2    3\n",
      "0   JAN  340  360  417\n",
      "1   FEB  318  342  391\n",
      "2   MAR  362  406  419\n",
      "3   APR  348  396  461\n",
      "4   MAY  363  420  472\n",
      "5   JUN  435  472  535\n",
      "6   JUL  491  548  622\n",
      "7   AUG  505  559  606\n",
      "8   SEP  404  463  508\n",
      "9   OCT  359  407  461\n",
      "10  NOV  310  362  390\n",
      "11  DEC  337  405  432\n"
     ]
    }
   ],
   "source": [
    "df = pd.read_csv(filepath, skiprows=[0], header= None)\n",
    "print(df)"
   ]
  },
  {
   "cell_type": "markdown",
   "metadata": {},
   "source": [
    "+ Define header(added column names)"
   ]
  },
  {
   "cell_type": "code",
   "execution_count": 8,
   "metadata": {
    "ExecuteTime": {
     "end_time": "2018-09-02T22:23:58.862694Z",
     "start_time": "2018-09-02T22:23:58.854717Z"
    }
   },
   "outputs": [
    {
     "name": "stdout",
     "output_type": "stream",
     "text": [
      "   Month  1958  1959  1960\n",
      "0    JAN   340   360   417\n",
      "1    FEB   318   342   391\n",
      "2    MAR   362   406   419\n",
      "3    APR   348   396   461\n",
      "4    MAY   363   420   472\n",
      "5    JUN   435   472   535\n",
      "6    JUL   491   548   622\n",
      "7    AUG   505   559   606\n",
      "8    SEP   404   463   508\n",
      "9    OCT   359   407   461\n",
      "10   NOV   310   362   390\n",
      "11   DEC   337   405   432\n"
     ]
    }
   ],
   "source": [
    "df = pd.read_csv(filepath, skiprows=[0], header= None, names=[\"Month\",1958,1959,1960])\n",
    "print(df)"
   ]
  },
  {
   "cell_type": "markdown",
   "metadata": {},
   "source": [
    "+ Define index column\n",
    "    - If a column has standard, it's more useful than just using column 0, 1, 2, ..."
   ]
  },
  {
   "cell_type": "code",
   "execution_count": 13,
   "metadata": {
    "ExecuteTime": {
     "end_time": "2018-09-02T22:41:07.590141Z",
     "start_time": "2018-09-02T22:41:07.581165Z"
    }
   },
   "outputs": [
    {
     "name": "stdout",
     "output_type": "stream",
     "text": [
      "       1958  1959  1960\n",
      "Month                  \n",
      "JAN     340   360   417\n",
      "FEB     318   342   391\n",
      "MAR     362   406   419\n",
      "APR     348   396   461\n",
      "MAY     363   420   472\n",
      "JUN     435   472   535\n",
      "JUL     491   548   622\n",
      "AUG     505   559   606\n",
      "SEP     404   463   508\n",
      "OCT     359   407   461\n",
      "NOV     310   362   390\n",
      "DEC     337   405   432\n"
     ]
    }
   ],
   "source": [
    "df = pd.read_csv(filepath, skiprows=[0], header= None, names=[\"Month\",1958,1959,1960],\n",
    "                 index_col = [0])\n",
    "print(df)"
   ]
  },
  {
   "cell_type": "markdown",
   "metadata": {
    "ExecuteTime": {
     "end_time": "2018-09-02T22:42:09.168608Z",
     "start_time": "2018-09-02T22:42:09.164622Z"
    }
   },
   "source": [
    "+ Set a values as NaN\n",
    "\n",
    "Below example, all \"JAN\" turn into NaN"
   ]
  },
  {
   "cell_type": "code",
   "execution_count": 17,
   "metadata": {
    "ExecuteTime": {
     "end_time": "2018-09-02T22:43:26.394919Z",
     "start_time": "2018-09-02T22:43:26.380957Z"
    }
   },
   "outputs": [
    {
     "name": "stdout",
     "output_type": "stream",
     "text": [
      "   Month  1958  1959  1960\n",
      "0    NaN   340   360   417\n",
      "1    FEB   318   342   391\n",
      "2    MAR   362   406   419\n",
      "3    APR   348   396   461\n",
      "4    MAY   363   420   472\n",
      "5    JUN   435   472   535\n",
      "6    JUL   491   548   622\n",
      "7    AUG   505   559   606\n",
      "8    SEP   404   463   508\n",
      "9    OCT   359   407   461\n",
      "10   NOV   310   362   390\n",
      "11   DEC   337   405   432\n",
      "\n",
      "    Month   1958   1959   1960\n",
      "0    True  False  False  False\n",
      "1   False  False  False  False\n",
      "2   False  False  False  False\n",
      "3   False  False  False  False\n",
      "4   False  False  False  False\n",
      "5   False  False  False  False\n",
      "6   False  False  False  False\n",
      "7   False  False  False  False\n",
      "8   False  False  False  False\n",
      "9   False  False  False  False\n",
      "10  False  False  False  False\n",
      "11  False  False  False  False\n"
     ]
    }
   ],
   "source": [
    "df = pd.read_csv(filepath, skiprows=[0], header= None, names=[\"Month\",1958,1959,1960],\n",
    "                 na_values = [\"JAN\"])\n",
    "print(df)\n",
    "print()\n",
    "print(pd.isnull(df))"
   ]
  },
  {
   "cell_type": "code",
   "execution_count": null,
   "metadata": {},
   "outputs": [],
   "source": []
  }
 ],
 "metadata": {
  "anaconda-cloud": {},
  "kernelspec": {
   "display_name": "Python [default]",
   "language": "python",
   "name": "python3"
  },
  "language_info": {
   "codemirror_mode": {
    "name": "ipython",
    "version": 3
   },
   "file_extension": ".py",
   "mimetype": "text/x-python",
   "name": "python",
   "nbconvert_exporter": "python",
   "pygments_lexer": "ipython3",
   "version": "3.5.2"
  },
  "varInspector": {
   "cols": {
    "lenName": 16,
    "lenType": 16,
    "lenVar": 40
   },
   "kernels_config": {
    "python": {
     "delete_cmd_postfix": "",
     "delete_cmd_prefix": "del ",
     "library": "var_list.py",
     "varRefreshCmd": "print(var_dic_list())"
    },
    "r": {
     "delete_cmd_postfix": ") ",
     "delete_cmd_prefix": "rm(",
     "library": "var_list.r",
     "varRefreshCmd": "cat(var_dic_list()) "
    }
   },
   "types_to_exclude": [
    "module",
    "function",
    "builtin_function_or_method",
    "instance",
    "_Feature"
   ],
   "window_display": false
  }
 },
 "nbformat": 4,
 "nbformat_minor": 1
}
